{
 "cells": [
  {
   "cell_type": "markdown",
   "id": "b4ae51d2",
   "metadata": {},
   "source": [
    "**Project 4** - Group 2 (Emma, Gabriel, Ben, Junhao)"
   ]
  },
  {
   "cell_type": "markdown",
   "id": "1414a827",
   "metadata": {},
   "source": [
    "<br>"
   ]
  },
  {
   "cell_type": "markdown",
   "id": "41fc0867",
   "metadata": {},
   "source": [
    "<font size=\"6\">Part 2: Modelling"
   ]
  },
  {
   "cell_type": "markdown",
   "id": "5ca97971",
   "metadata": {},
   "source": [
    "## Load Libraries / Import Datasets"
   ]
  },
  {
   "cell_type": "code",
   "execution_count": 142,
   "id": "cfb65cc8",
   "metadata": {},
   "outputs": [],
   "source": [
    "import pandas as pd\n",
    "import numpy as np\n",
    "import matplotlib.pyplot as plt\n",
    "import matplotlib.ticker as ticker\n",
    "import seaborn as sns\n",
    "from geopy.distance import geodesic\n",
    "\n",
    "from sklearn.preprocessing import OneHotEncoder, StandardScaler, PolynomialFeatures\n",
    "from sklearn.naive_bayes import MultinomialNB\n",
    "from sklearn.model_selection import train_test_split, cross_val_score, GridSearchCV\n",
    "\n",
    "from imblearn.over_sampling import SMOTE\n",
    "from imblearn.pipeline import Pipeline as imbpipeline\n",
    "\n",
    "from sklearn.metrics import (\n",
    "    confusion_matrix, \n",
    "    plot_confusion_matrix,\n",
    "    accuracy_score,\n",
    "    plot_roc_curve,\n",
    "    roc_auc_score,\n",
    "    recall_score,\n",
    "    precision_score,\n",
    "    f1_score\n",
    ")\n",
    "\n",
    "from sklearn.ensemble import RandomForestClassifier, GradientBoostingClassifier, AdaBoostClassifier, ExtraTreesClassifier\n",
    "from sklearn.linear_model import LogisticRegression\n",
    "from sklearn.tree import DecisionTreeClassifier\n",
    "from sklearn.neighbors import KNeighborsClassifier\n",
    "\n",
    "import xgboost as xgb\n",
    "from xgboost import XGBClassifier\n",
    "\n",
    "pd.set_option('display.max_colwidth', 0)"
   ]
  },
  {
   "cell_type": "code",
   "execution_count": 2,
   "id": "87dbbfca",
   "metadata": {},
   "outputs": [],
   "source": [
    "train_weather = pd.read_csv(r'../datasets/train_weather_v3.csv')\n",
    "test_weather = pd.read_csv(r'../datasets/test_weather_v3.csv')\n",
    "submission = pd.read_csv(r'../datasets/sampleSubmission.csv')"
   ]
  },
  {
   "cell_type": "markdown",
   "id": "308183ac",
   "metadata": {},
   "source": [
    "The cleaned test dataset has ~13 times more entries than the train dataset."
   ]
  },
  {
   "cell_type": "code",
   "execution_count": 3,
   "id": "6667862c",
   "metadata": {},
   "outputs": [
    {
     "data": {
      "text/plain": [
       "(8475, 28)"
      ]
     },
     "execution_count": 3,
     "metadata": {},
     "output_type": "execute_result"
    }
   ],
   "source": [
    "train_weather.shape"
   ]
  },
  {
   "cell_type": "code",
   "execution_count": 4,
   "id": "465aed5a",
   "metadata": {},
   "outputs": [
    {
     "data": {
      "text/plain": [
       "(116293, 28)"
      ]
     },
     "execution_count": 4,
     "metadata": {},
     "output_type": "execute_result"
    }
   ],
   "source": [
    "test_weather.shape"
   ]
  },
  {
   "cell_type": "markdown",
   "id": "ad437ca6",
   "metadata": {},
   "source": [
    "## Functions"
   ]
  },
  {
   "cell_type": "code",
   "execution_count": 5,
   "id": "2f763bd0",
   "metadata": {},
   "outputs": [],
   "source": [
    "def get_model(model, gridcv, pipe_params={}):\n",
    "    '''Function to apply GriSearchCV based on selected model and parameters'''\n",
    "    \n",
    "    #Scale X\n",
    "    ss = StandardScaler()\n",
    "    Xsc_train = ss.fit_transform(X_train)\n",
    "    Xsc_test = ss.transform(X_test)\n",
    "    \n",
    "    #Models to test\n",
    "    models = {'lr': LogisticRegression(),\n",
    "              'nb': MultinomialNB(),\n",
    "              'rf': RandomForestClassifier(),\n",
    "              'et': ExtraTreesClassifier(),\n",
    "              'ada': AdaBoostClassifier(base_estimator=DecisionTreeClassifier()),\n",
    "              'knn': KNeighborsClassifier(),\n",
    "              'gb': GradientBoostingClassifier(),\n",
    "              'xgb': xgb.XGBClassifier()\n",
    "             }\n",
    "    \n",
    "    #pipeline to include SMOTE since this is an unbalanced dataset \n",
    "    pipe = imbpipeline([\n",
    "        ('sm', SMOTE(random_state=42)), \n",
    "        (model, models[model]),\n",
    "            ])\n",
    "    \n",
    "    pipe_params = pipe_params\n",
    "    \n",
    "    #GriSesarchCV on user assigned parameters\n",
    "    gridsearch = GridSearchCV(pipe, pipe_params, cv=gridcv, scoring='roc_auc', verbose=1, n_jobs=-1)\n",
    "    \n",
    "    gridsearch.fit(Xsc_train, y_train)\n",
    "    \n",
    "    #predict on test \n",
    "    preds = gridsearch.predict(Xsc_test)\n",
    "    tn, fp, fn, tp = confusion_matrix(y_test, preds).ravel()\n",
    "\n",
    "    model_probs_train = gridsearch.predict_proba(Xsc_train)[:, 1]\n",
    "    model_probs_test = gridsearch.predict_proba(Xsc_test)[:, 1]\n",
    "    roc_auc = cross_val_score(pipe, Xsc_train, y_train, scoring='roc_auc', cv=gridcv)\n",
    "    best_params = gridsearch.best_params_\n",
    "    \n",
    "    #Metrics to produce\n",
    "    summary ={\n",
    "        'model': model,\n",
    "        'accuracy': accuracy_score(y_test, preds),\n",
    "        'specificity': tn / (tn+fp),\n",
    "        'recall': recall_score(y_test, preds),\n",
    "        'precision': precision_score(y_test, preds),\n",
    "        'f1_score': f1_score(y_test, preds),\n",
    "        'AUC_CV': roc_auc.mean(),\n",
    "        'AUC_train': roc_auc_score(y_train, model_probs_train),\n",
    "        'AUC_test': roc_auc_score(y_test, model_probs_test),\n",
    "        'best params': best_params}\n",
    "    \n",
    "    summary_df = pd.DataFrame.from_dict(summary, orient='Index', columns=[str(model)])\n",
    "\n",
    "    return summary_df"
   ]
  },
  {
   "cell_type": "markdown",
   "id": "28cb81d1",
   "metadata": {},
   "source": [
    "## Modelling"
   ]
  },
  {
   "cell_type": "markdown",
   "id": "44f59890",
   "metadata": {},
   "source": [
    "In this section, we will train our dataset over 6 different models and evaluate them based on:\n",
    "- ROC AUC score\n",
    "- Recall and Precision (F1 score)"
   ]
  },
  {
   "cell_type": "code",
   "execution_count": 6,
   "id": "24530310",
   "metadata": {},
   "outputs": [],
   "source": [
    "#Train/Test(aka Validation) split on Train dataset \n",
    "\n",
    "X = train_weather.drop(columns=['WnvPresent'])\n",
    "y = train_weather['WnvPresent'] \n",
    "    \n",
    "X_train, X_test, y_train, y_test = train_test_split(X, y, stratify=y, random_state=42)\n",
    "\n",
    "metrics = pd.DataFrame(index=[0])"
   ]
  },
  {
   "cell_type": "markdown",
   "id": "810828ca",
   "metadata": {},
   "source": [
    "### Baseline "
   ]
  },
  {
   "cell_type": "markdown",
   "id": "9027a91c",
   "metadata": {},
   "source": [
    "For the baseline model, we run it a logistic regression model with no parameter tuning. It produced a ROC_AUC test score of 0.81. "
   ]
  },
  {
   "cell_type": "markdown",
   "id": "9ec0030a",
   "metadata": {},
   "source": [
    "*Note: We have encountered multiple convergence warning messages when running the logistic regression model. Despite adjusting max_iter, it has no effect on eliminating this error message. We have inspected our train/test scores, which look ok, and we have decided to proceed as such.*"
   ]
  },
  {
   "cell_type": "code",
   "execution_count": 7,
   "id": "916340f3",
   "metadata": {},
   "outputs": [
    {
     "name": "stdout",
     "output_type": "stream",
     "text": [
      "Fitting 5 folds for each of 1 candidates, totalling 5 fits\n"
     ]
    },
    {
     "name": "stderr",
     "output_type": "stream",
     "text": [
      "/Users/benjaminpoh/opt/anaconda3/envs/dsi24/lib/python3.8/site-packages/sklearn/linear_model/_logistic.py:763: ConvergenceWarning: lbfgs failed to converge (status=1):\n",
      "STOP: TOTAL NO. of ITERATIONS REACHED LIMIT.\n",
      "\n",
      "Increase the number of iterations (max_iter) or scale the data as shown in:\n",
      "    https://scikit-learn.org/stable/modules/preprocessing.html\n",
      "Please also refer to the documentation for alternative solver options:\n",
      "    https://scikit-learn.org/stable/modules/linear_model.html#logistic-regression\n",
      "  n_iter_i = _check_optimize_result(\n",
      "/Users/benjaminpoh/opt/anaconda3/envs/dsi24/lib/python3.8/site-packages/sklearn/linear_model/_logistic.py:763: ConvergenceWarning: lbfgs failed to converge (status=1):\n",
      "STOP: TOTAL NO. of ITERATIONS REACHED LIMIT.\n",
      "\n",
      "Increase the number of iterations (max_iter) or scale the data as shown in:\n",
      "    https://scikit-learn.org/stable/modules/preprocessing.html\n",
      "Please also refer to the documentation for alternative solver options:\n",
      "    https://scikit-learn.org/stable/modules/linear_model.html#logistic-regression\n",
      "  n_iter_i = _check_optimize_result(\n",
      "/Users/benjaminpoh/opt/anaconda3/envs/dsi24/lib/python3.8/site-packages/sklearn/linear_model/_logistic.py:763: ConvergenceWarning: lbfgs failed to converge (status=1):\n",
      "STOP: TOTAL NO. of ITERATIONS REACHED LIMIT.\n",
      "\n",
      "Increase the number of iterations (max_iter) or scale the data as shown in:\n",
      "    https://scikit-learn.org/stable/modules/preprocessing.html\n",
      "Please also refer to the documentation for alternative solver options:\n",
      "    https://scikit-learn.org/stable/modules/linear_model.html#logistic-regression\n",
      "  n_iter_i = _check_optimize_result(\n",
      "/Users/benjaminpoh/opt/anaconda3/envs/dsi24/lib/python3.8/site-packages/sklearn/linear_model/_logistic.py:763: ConvergenceWarning: lbfgs failed to converge (status=1):\n",
      "STOP: TOTAL NO. of ITERATIONS REACHED LIMIT.\n",
      "\n",
      "Increase the number of iterations (max_iter) or scale the data as shown in:\n",
      "    https://scikit-learn.org/stable/modules/preprocessing.html\n",
      "Please also refer to the documentation for alternative solver options:\n",
      "    https://scikit-learn.org/stable/modules/linear_model.html#logistic-regression\n",
      "  n_iter_i = _check_optimize_result(\n",
      "/Users/benjaminpoh/opt/anaconda3/envs/dsi24/lib/python3.8/site-packages/sklearn/linear_model/_logistic.py:763: ConvergenceWarning: lbfgs failed to converge (status=1):\n",
      "STOP: TOTAL NO. of ITERATIONS REACHED LIMIT.\n",
      "\n",
      "Increase the number of iterations (max_iter) or scale the data as shown in:\n",
      "    https://scikit-learn.org/stable/modules/preprocessing.html\n",
      "Please also refer to the documentation for alternative solver options:\n",
      "    https://scikit-learn.org/stable/modules/linear_model.html#logistic-regression\n",
      "  n_iter_i = _check_optimize_result(\n",
      "/Users/benjaminpoh/opt/anaconda3/envs/dsi24/lib/python3.8/site-packages/sklearn/linear_model/_logistic.py:763: ConvergenceWarning: lbfgs failed to converge (status=1):\n",
      "STOP: TOTAL NO. of ITERATIONS REACHED LIMIT.\n",
      "\n",
      "Increase the number of iterations (max_iter) or scale the data as shown in:\n",
      "    https://scikit-learn.org/stable/modules/preprocessing.html\n",
      "Please also refer to the documentation for alternative solver options:\n",
      "    https://scikit-learn.org/stable/modules/linear_model.html#logistic-regression\n",
      "  n_iter_i = _check_optimize_result(\n"
     ]
    },
    {
     "data": {
      "text/html": [
       "<div>\n",
       "<style scoped>\n",
       "    .dataframe tbody tr th:only-of-type {\n",
       "        vertical-align: middle;\n",
       "    }\n",
       "\n",
       "    .dataframe tbody tr th {\n",
       "        vertical-align: top;\n",
       "    }\n",
       "\n",
       "    .dataframe thead th {\n",
       "        text-align: right;\n",
       "    }\n",
       "</style>\n",
       "<table border=\"1\" class=\"dataframe\">\n",
       "  <thead>\n",
       "    <tr style=\"text-align: right;\">\n",
       "      <th></th>\n",
       "      <th>lr</th>\n",
       "    </tr>\n",
       "  </thead>\n",
       "  <tbody>\n",
       "    <tr>\n",
       "      <th>model</th>\n",
       "      <td>lr</td>\n",
       "    </tr>\n",
       "    <tr>\n",
       "      <th>accuracy</th>\n",
       "      <td>0.73714</td>\n",
       "    </tr>\n",
       "    <tr>\n",
       "      <th>specificity</th>\n",
       "      <td>0.735661</td>\n",
       "    </tr>\n",
       "    <tr>\n",
       "      <th>recall</th>\n",
       "      <td>0.763158</td>\n",
       "    </tr>\n",
       "    <tr>\n",
       "      <th>precision</th>\n",
       "      <td>0.141005</td>\n",
       "    </tr>\n",
       "    <tr>\n",
       "      <th>f1_score</th>\n",
       "      <td>0.23803</td>\n",
       "    </tr>\n",
       "    <tr>\n",
       "      <th>AUC_CV</th>\n",
       "      <td>0.833047</td>\n",
       "    </tr>\n",
       "    <tr>\n",
       "      <th>AUC_train</th>\n",
       "      <td>0.844657</td>\n",
       "    </tr>\n",
       "    <tr>\n",
       "      <th>AUC_test</th>\n",
       "      <td>0.817988</td>\n",
       "    </tr>\n",
       "    <tr>\n",
       "      <th>best params</th>\n",
       "      <td>{}</td>\n",
       "    </tr>\n",
       "  </tbody>\n",
       "</table>\n",
       "</div>"
      ],
      "text/plain": [
       "                   lr\n",
       "model        lr      \n",
       "accuracy     0.73714 \n",
       "specificity  0.735661\n",
       "recall       0.763158\n",
       "precision    0.141005\n",
       "f1_score     0.23803 \n",
       "AUC_CV       0.833047\n",
       "AUC_train    0.844657\n",
       "AUC_test     0.817988\n",
       "best params  {}      "
      ]
     },
     "execution_count": 7,
     "metadata": {},
     "output_type": "execute_result"
    }
   ],
   "source": [
    "get_model('lr', 5, pipe_params={})"
   ]
  },
  {
   "cell_type": "markdown",
   "id": "52b0f39e",
   "metadata": {},
   "source": [
    "### Logistic Regression"
   ]
  },
  {
   "cell_type": "code",
   "execution_count": 8,
   "id": "748e86b3",
   "metadata": {},
   "outputs": [
    {
     "name": "stdout",
     "output_type": "stream",
     "text": [
      "Fitting 5 folds for each of 90 candidates, totalling 450 fits\n"
     ]
    },
    {
     "name": "stderr",
     "output_type": "stream",
     "text": [
      "/Users/benjaminpoh/opt/anaconda3/envs/dsi24/lib/python3.8/site-packages/sklearn/linear_model/_logistic.py:763: ConvergenceWarning: lbfgs failed to converge (status=1):\n",
      "STOP: TOTAL NO. of ITERATIONS REACHED LIMIT.\n",
      "\n",
      "Increase the number of iterations (max_iter) or scale the data as shown in:\n",
      "    https://scikit-learn.org/stable/modules/preprocessing.html\n",
      "Please also refer to the documentation for alternative solver options:\n",
      "    https://scikit-learn.org/stable/modules/linear_model.html#logistic-regression\n",
      "  n_iter_i = _check_optimize_result(\n",
      "/Users/benjaminpoh/opt/anaconda3/envs/dsi24/lib/python3.8/site-packages/sklearn/linear_model/_logistic.py:763: ConvergenceWarning: lbfgs failed to converge (status=1):\n",
      "STOP: TOTAL NO. of ITERATIONS REACHED LIMIT.\n",
      "\n",
      "Increase the number of iterations (max_iter) or scale the data as shown in:\n",
      "    https://scikit-learn.org/stable/modules/preprocessing.html\n",
      "Please also refer to the documentation for alternative solver options:\n",
      "    https://scikit-learn.org/stable/modules/linear_model.html#logistic-regression\n",
      "  n_iter_i = _check_optimize_result(\n",
      "/Users/benjaminpoh/opt/anaconda3/envs/dsi24/lib/python3.8/site-packages/sklearn/linear_model/_logistic.py:763: ConvergenceWarning: lbfgs failed to converge (status=1):\n",
      "STOP: TOTAL NO. of ITERATIONS REACHED LIMIT.\n",
      "\n",
      "Increase the number of iterations (max_iter) or scale the data as shown in:\n",
      "    https://scikit-learn.org/stable/modules/preprocessing.html\n",
      "Please also refer to the documentation for alternative solver options:\n",
      "    https://scikit-learn.org/stable/modules/linear_model.html#logistic-regression\n",
      "  n_iter_i = _check_optimize_result(\n"
     ]
    },
    {
     "name": "stdout",
     "output_type": "stream",
     "text": [
      "CPU times: user 4.92 s, sys: 180 ms, total: 5.1 s\n",
      "Wall time: 4min 4s\n"
     ]
    },
    {
     "name": "stderr",
     "output_type": "stream",
     "text": [
      "/Users/benjaminpoh/opt/anaconda3/envs/dsi24/lib/python3.8/site-packages/sklearn/linear_model/_logistic.py:763: ConvergenceWarning: lbfgs failed to converge (status=1):\n",
      "STOP: TOTAL NO. of ITERATIONS REACHED LIMIT.\n",
      "\n",
      "Increase the number of iterations (max_iter) or scale the data as shown in:\n",
      "    https://scikit-learn.org/stable/modules/preprocessing.html\n",
      "Please also refer to the documentation for alternative solver options:\n",
      "    https://scikit-learn.org/stable/modules/linear_model.html#logistic-regression\n",
      "  n_iter_i = _check_optimize_result(\n",
      "/Users/benjaminpoh/opt/anaconda3/envs/dsi24/lib/python3.8/site-packages/sklearn/linear_model/_logistic.py:763: ConvergenceWarning: lbfgs failed to converge (status=1):\n",
      "STOP: TOTAL NO. of ITERATIONS REACHED LIMIT.\n",
      "\n",
      "Increase the number of iterations (max_iter) or scale the data as shown in:\n",
      "    https://scikit-learn.org/stable/modules/preprocessing.html\n",
      "Please also refer to the documentation for alternative solver options:\n",
      "    https://scikit-learn.org/stable/modules/linear_model.html#logistic-regression\n",
      "  n_iter_i = _check_optimize_result(\n"
     ]
    },
    {
     "data": {
      "text/html": [
       "<div>\n",
       "<style scoped>\n",
       "    .dataframe tbody tr th:only-of-type {\n",
       "        vertical-align: middle;\n",
       "    }\n",
       "\n",
       "    .dataframe tbody tr th {\n",
       "        vertical-align: top;\n",
       "    }\n",
       "\n",
       "    .dataframe thead th {\n",
       "        text-align: right;\n",
       "    }\n",
       "</style>\n",
       "<table border=\"1\" class=\"dataframe\">\n",
       "  <thead>\n",
       "    <tr style=\"text-align: right;\">\n",
       "      <th></th>\n",
       "      <th>lr</th>\n",
       "    </tr>\n",
       "  </thead>\n",
       "  <tbody>\n",
       "    <tr>\n",
       "      <th>model</th>\n",
       "      <td>lr</td>\n",
       "    </tr>\n",
       "    <tr>\n",
       "      <th>accuracy</th>\n",
       "      <td>0.73714</td>\n",
       "    </tr>\n",
       "    <tr>\n",
       "      <th>specificity</th>\n",
       "      <td>0.735661</td>\n",
       "    </tr>\n",
       "    <tr>\n",
       "      <th>recall</th>\n",
       "      <td>0.763158</td>\n",
       "    </tr>\n",
       "    <tr>\n",
       "      <th>precision</th>\n",
       "      <td>0.141005</td>\n",
       "    </tr>\n",
       "    <tr>\n",
       "      <th>f1_score</th>\n",
       "      <td>0.23803</td>\n",
       "    </tr>\n",
       "    <tr>\n",
       "      <th>AUC_CV</th>\n",
       "      <td>0.833047</td>\n",
       "    </tr>\n",
       "    <tr>\n",
       "      <th>AUC_train</th>\n",
       "      <td>0.844653</td>\n",
       "    </tr>\n",
       "    <tr>\n",
       "      <th>AUC_test</th>\n",
       "      <td>0.817984</td>\n",
       "    </tr>\n",
       "    <tr>\n",
       "      <th>best params</th>\n",
       "      <td>{'lr__C': 1.023292992280754, 'lr__max_iter': 1000, 'lr__solver': 'saga'}</td>\n",
       "    </tr>\n",
       "  </tbody>\n",
       "</table>\n",
       "</div>"
      ],
      "text/plain": [
       "                                                                                   lr\n",
       "model        lr                                                                      \n",
       "accuracy     0.73714                                                                 \n",
       "specificity  0.735661                                                                \n",
       "recall       0.763158                                                                \n",
       "precision    0.141005                                                                \n",
       "f1_score     0.23803                                                                 \n",
       "AUC_CV       0.833047                                                                \n",
       "AUC_train    0.844653                                                                \n",
       "AUC_test     0.817984                                                                \n",
       "best params  {'lr__C': 1.023292992280754, 'lr__max_iter': 1000, 'lr__solver': 'saga'}"
      ]
     },
     "execution_count": 8,
     "metadata": {},
     "output_type": "execute_result"
    }
   ],
   "source": [
    "%%time\n",
    "\n",
    "lr_results = get_model('lr', 5, pipe_params={\n",
    "    'lr__C' : np.logspace(0.01, 1, 10),\n",
    "    'lr__solver': ['sag','saga', 'liblinear'],    \n",
    "    'lr__max_iter': [1000, 5000, 10000]\n",
    "})\n",
    "\n",
    "lr_results"
   ]
  },
  {
   "cell_type": "markdown",
   "id": "be5aec85",
   "metadata": {},
   "source": [
    "### Random Forest"
   ]
  },
  {
   "cell_type": "code",
   "execution_count": 12,
   "id": "d790f072",
   "metadata": {},
   "outputs": [
    {
     "name": "stdout",
     "output_type": "stream",
     "text": [
      "Fitting 5 folds for each of 18 candidates, totalling 90 fits\n",
      "CPU times: user 9.11 s, sys: 168 ms, total: 9.28 s\n",
      "Wall time: 35.1 s\n"
     ]
    },
    {
     "data": {
      "text/html": [
       "<div>\n",
       "<style scoped>\n",
       "    .dataframe tbody tr th:only-of-type {\n",
       "        vertical-align: middle;\n",
       "    }\n",
       "\n",
       "    .dataframe tbody tr th {\n",
       "        vertical-align: top;\n",
       "    }\n",
       "\n",
       "    .dataframe thead th {\n",
       "        text-align: right;\n",
       "    }\n",
       "</style>\n",
       "<table border=\"1\" class=\"dataframe\">\n",
       "  <thead>\n",
       "    <tr style=\"text-align: right;\">\n",
       "      <th></th>\n",
       "      <th>rf</th>\n",
       "    </tr>\n",
       "  </thead>\n",
       "  <tbody>\n",
       "    <tr>\n",
       "      <th>model</th>\n",
       "      <td>rf</td>\n",
       "    </tr>\n",
       "    <tr>\n",
       "      <th>accuracy</th>\n",
       "      <td>0.90184</td>\n",
       "    </tr>\n",
       "    <tr>\n",
       "      <th>specificity</th>\n",
       "      <td>0.931172</td>\n",
       "    </tr>\n",
       "    <tr>\n",
       "      <th>recall</th>\n",
       "      <td>0.385965</td>\n",
       "    </tr>\n",
       "    <tr>\n",
       "      <th>precision</th>\n",
       "      <td>0.241758</td>\n",
       "    </tr>\n",
       "    <tr>\n",
       "      <th>f1_score</th>\n",
       "      <td>0.297297</td>\n",
       "    </tr>\n",
       "    <tr>\n",
       "      <th>AUC_CV</th>\n",
       "      <td>0.761421</td>\n",
       "    </tr>\n",
       "    <tr>\n",
       "      <th>AUC_train</th>\n",
       "      <td>0.937813</td>\n",
       "    </tr>\n",
       "    <tr>\n",
       "      <th>AUC_test</th>\n",
       "      <td>0.814715</td>\n",
       "    </tr>\n",
       "    <tr>\n",
       "      <th>best params</th>\n",
       "      <td>{'rf__min_samples_leaf': 5, 'rf__min_samples_split': 3, 'rf__n_estimators': 100}</td>\n",
       "    </tr>\n",
       "  </tbody>\n",
       "</table>\n",
       "</div>"
      ],
      "text/plain": [
       "                                                                                           rf\n",
       "model        rf                                                                              \n",
       "accuracy     0.90184                                                                         \n",
       "specificity  0.931172                                                                        \n",
       "recall       0.385965                                                                        \n",
       "precision    0.241758                                                                        \n",
       "f1_score     0.297297                                                                        \n",
       "AUC_CV       0.761421                                                                        \n",
       "AUC_train    0.937813                                                                        \n",
       "AUC_test     0.814715                                                                        \n",
       "best params  {'rf__min_samples_leaf': 5, 'rf__min_samples_split': 3, 'rf__n_estimators': 100}"
      ]
     },
     "execution_count": 12,
     "metadata": {},
     "output_type": "execute_result"
    }
   ],
   "source": [
    "%%time\n",
    "\n",
    "rf_results = get_model('rf', 5, pipe_params={\n",
    "    'rf__n_estimators': [100, 150, 200],\n",
    "    'rf__min_samples_split': [2, 3, 5],\n",
    "    'rf__min_samples_leaf': [2, 5]\n",
    "})\n",
    "\n",
    "rf_results"
   ]
  },
  {
   "cell_type": "markdown",
   "id": "c0acb413",
   "metadata": {},
   "source": [
    "### K Nearest Neighbors"
   ]
  },
  {
   "cell_type": "code",
   "execution_count": 13,
   "id": "348435b7",
   "metadata": {},
   "outputs": [
    {
     "name": "stdout",
     "output_type": "stream",
     "text": [
      "Fitting 5 folds for each of 24 candidates, totalling 120 fits\n",
      "CPU times: user 9.32 s, sys: 1.44 s, total: 10.8 s\n",
      "Wall time: 18.4 s\n"
     ]
    },
    {
     "data": {
      "text/html": [
       "<div>\n",
       "<style scoped>\n",
       "    .dataframe tbody tr th:only-of-type {\n",
       "        vertical-align: middle;\n",
       "    }\n",
       "\n",
       "    .dataframe tbody tr th {\n",
       "        vertical-align: top;\n",
       "    }\n",
       "\n",
       "    .dataframe thead th {\n",
       "        text-align: right;\n",
       "    }\n",
       "</style>\n",
       "<table border=\"1\" class=\"dataframe\">\n",
       "  <thead>\n",
       "    <tr style=\"text-align: right;\">\n",
       "      <th></th>\n",
       "      <th>knn</th>\n",
       "    </tr>\n",
       "  </thead>\n",
       "  <tbody>\n",
       "    <tr>\n",
       "      <th>model</th>\n",
       "      <td>knn</td>\n",
       "    </tr>\n",
       "    <tr>\n",
       "      <th>accuracy</th>\n",
       "      <td>0.746579</td>\n",
       "    </tr>\n",
       "    <tr>\n",
       "      <th>specificity</th>\n",
       "      <td>0.74813</td>\n",
       "    </tr>\n",
       "    <tr>\n",
       "      <th>recall</th>\n",
       "      <td>0.719298</td>\n",
       "    </tr>\n",
       "    <tr>\n",
       "      <th>precision</th>\n",
       "      <td>0.139693</td>\n",
       "    </tr>\n",
       "    <tr>\n",
       "      <th>f1_score</th>\n",
       "      <td>0.233951</td>\n",
       "    </tr>\n",
       "    <tr>\n",
       "      <th>AUC_CV</th>\n",
       "      <td>0.729757</td>\n",
       "    </tr>\n",
       "    <tr>\n",
       "      <th>AUC_train</th>\n",
       "      <td>0.904566</td>\n",
       "    </tr>\n",
       "    <tr>\n",
       "      <th>AUC_test</th>\n",
       "      <td>0.784709</td>\n",
       "    </tr>\n",
       "    <tr>\n",
       "      <th>best params</th>\n",
       "      <td>{'knn__leaf_size': 10, 'knn__n_neighbors': 50, 'knn__p': 1}</td>\n",
       "    </tr>\n",
       "  </tbody>\n",
       "</table>\n",
       "</div>"
      ],
      "text/plain": [
       "                                                                     knn\n",
       "model        knn                                                        \n",
       "accuracy     0.746579                                                   \n",
       "specificity  0.74813                                                    \n",
       "recall       0.719298                                                   \n",
       "precision    0.139693                                                   \n",
       "f1_score     0.233951                                                   \n",
       "AUC_CV       0.729757                                                   \n",
       "AUC_train    0.904566                                                   \n",
       "AUC_test     0.784709                                                   \n",
       "best params  {'knn__leaf_size': 10, 'knn__n_neighbors': 50, 'knn__p': 1}"
      ]
     },
     "execution_count": 13,
     "metadata": {},
     "output_type": "execute_result"
    }
   ],
   "source": [
    "%%time\n",
    "\n",
    "knn_results = get_model('knn', 5, pipe_params={\n",
    "    'knn__leaf_size': [10, 20, 30],\n",
    "    'knn__n_neighbors': [10, 25, 50, 75],\n",
    "    'knn__p': [1, 2]\n",
    "})\n",
    "\n",
    "knn_results"
   ]
  },
  {
   "cell_type": "markdown",
   "id": "81d28a56",
   "metadata": {},
   "source": [
    "### GradientBoost"
   ]
  },
  {
   "cell_type": "code",
   "execution_count": 99,
   "id": "49935e5b",
   "metadata": {},
   "outputs": [
    {
     "name": "stdout",
     "output_type": "stream",
     "text": [
      "Fitting 5 folds for each of 72 candidates, totalling 360 fits\n",
      "CPU times: user 16.1 s, sys: 273 ms, total: 16.4 s\n",
      "Wall time: 3min 41s\n"
     ]
    },
    {
     "data": {
      "text/html": [
       "<div>\n",
       "<style scoped>\n",
       "    .dataframe tbody tr th:only-of-type {\n",
       "        vertical-align: middle;\n",
       "    }\n",
       "\n",
       "    .dataframe tbody tr th {\n",
       "        vertical-align: top;\n",
       "    }\n",
       "\n",
       "    .dataframe thead th {\n",
       "        text-align: right;\n",
       "    }\n",
       "</style>\n",
       "<table border=\"1\" class=\"dataframe\">\n",
       "  <thead>\n",
       "    <tr style=\"text-align: right;\">\n",
       "      <th></th>\n",
       "      <th>gb</th>\n",
       "    </tr>\n",
       "  </thead>\n",
       "  <tbody>\n",
       "    <tr>\n",
       "      <th>model</th>\n",
       "      <td>gb</td>\n",
       "    </tr>\n",
       "    <tr>\n",
       "      <th>accuracy</th>\n",
       "      <td>0.879188</td>\n",
       "    </tr>\n",
       "    <tr>\n",
       "      <th>specificity</th>\n",
       "      <td>0.901247</td>\n",
       "    </tr>\n",
       "    <tr>\n",
       "      <th>recall</th>\n",
       "      <td>0.491228</td>\n",
       "    </tr>\n",
       "    <tr>\n",
       "      <th>precision</th>\n",
       "      <td>0.220472</td>\n",
       "    </tr>\n",
       "    <tr>\n",
       "      <th>f1_score</th>\n",
       "      <td>0.304348</td>\n",
       "    </tr>\n",
       "    <tr>\n",
       "      <th>AUC_CV</th>\n",
       "      <td>0.837726</td>\n",
       "    </tr>\n",
       "    <tr>\n",
       "      <th>AUC_train</th>\n",
       "      <td>0.894464</td>\n",
       "    </tr>\n",
       "    <tr>\n",
       "      <th>AUC_test</th>\n",
       "      <td>0.828094</td>\n",
       "    </tr>\n",
       "    <tr>\n",
       "      <th>best params</th>\n",
       "      <td>{'gb__learning_rate': 0.1, 'gb__max_depth': 3, 'gb__min_samples_leaf': 10, 'gb__min_samples_split': 15, 'gb__n_estimators': 150}</td>\n",
       "    </tr>\n",
       "  </tbody>\n",
       "</table>\n",
       "</div>"
      ],
      "text/plain": [
       "                                                                                                                                           gb\n",
       "model        gb                                                                                                                              \n",
       "accuracy     0.879188                                                                                                                        \n",
       "specificity  0.901247                                                                                                                        \n",
       "recall       0.491228                                                                                                                        \n",
       "precision    0.220472                                                                                                                        \n",
       "f1_score     0.304348                                                                                                                        \n",
       "AUC_CV       0.837726                                                                                                                        \n",
       "AUC_train    0.894464                                                                                                                        \n",
       "AUC_test     0.828094                                                                                                                        \n",
       "best params  {'gb__learning_rate': 0.1, 'gb__max_depth': 3, 'gb__min_samples_leaf': 10, 'gb__min_samples_split': 15, 'gb__n_estimators': 150}"
      ]
     },
     "execution_count": 99,
     "metadata": {},
     "output_type": "execute_result"
    }
   ],
   "source": [
    "%%time\n",
    "\n",
    "gb_results = get_model('gb', 5, pipe_params={\n",
    "    'gb__max_depth': [3,5],\n",
    "    'gb__n_estimators': [50, 100, 150],\n",
    "    'gb__learning_rate': [.05, .1, .15],\n",
    "    'gb__min_samples_leaf':[10,15],\n",
    "    'gb__min_samples_split':[10, 15],\n",
    "})\n",
    "\n",
    "gb_results"
   ]
  },
  {
   "cell_type": "markdown",
   "id": "ac0a3fc6",
   "metadata": {},
   "source": [
    "### AdaBoost"
   ]
  },
  {
   "cell_type": "code",
   "execution_count": 16,
   "id": "04d1bd1b",
   "metadata": {},
   "outputs": [
    {
     "name": "stdout",
     "output_type": "stream",
     "text": [
      "Fitting 5 folds for each of 72 candidates, totalling 360 fits\n",
      "CPU times: user 12.7 s, sys: 232 ms, total: 12.9 s\n",
      "Wall time: 1min 17s\n"
     ]
    },
    {
     "data": {
      "text/html": [
       "<div>\n",
       "<style scoped>\n",
       "    .dataframe tbody tr th:only-of-type {\n",
       "        vertical-align: middle;\n",
       "    }\n",
       "\n",
       "    .dataframe tbody tr th {\n",
       "        vertical-align: top;\n",
       "    }\n",
       "\n",
       "    .dataframe thead th {\n",
       "        text-align: right;\n",
       "    }\n",
       "</style>\n",
       "<table border=\"1\" class=\"dataframe\">\n",
       "  <thead>\n",
       "    <tr style=\"text-align: right;\">\n",
       "      <th></th>\n",
       "      <th>ada</th>\n",
       "    </tr>\n",
       "  </thead>\n",
       "  <tbody>\n",
       "    <tr>\n",
       "      <th>model</th>\n",
       "      <td>ada</td>\n",
       "    </tr>\n",
       "    <tr>\n",
       "      <th>accuracy</th>\n",
       "      <td>0.934403</td>\n",
       "    </tr>\n",
       "    <tr>\n",
       "      <th>specificity</th>\n",
       "      <td>0.981047</td>\n",
       "    </tr>\n",
       "    <tr>\n",
       "      <th>recall</th>\n",
       "      <td>0.114035</td>\n",
       "    </tr>\n",
       "    <tr>\n",
       "      <th>precision</th>\n",
       "      <td>0.254902</td>\n",
       "    </tr>\n",
       "    <tr>\n",
       "      <th>f1_score</th>\n",
       "      <td>0.157576</td>\n",
       "    </tr>\n",
       "    <tr>\n",
       "      <th>AUC_CV</th>\n",
       "      <td>0.713697</td>\n",
       "    </tr>\n",
       "    <tr>\n",
       "      <th>AUC_train</th>\n",
       "      <td>0.893912</td>\n",
       "    </tr>\n",
       "    <tr>\n",
       "      <th>AUC_test</th>\n",
       "      <td>0.830113</td>\n",
       "    </tr>\n",
       "    <tr>\n",
       "      <th>best params</th>\n",
       "      <td>{'ada__base_estimator__max_depth': 2, 'ada__learning_rate': 0.3, 'ada__n_estimators': 80, 'sm__k_neighbors': 50}</td>\n",
       "    </tr>\n",
       "  </tbody>\n",
       "</table>\n",
       "</div>"
      ],
      "text/plain": [
       "                                                                                                                          ada\n",
       "model        ada                                                                                                             \n",
       "accuracy     0.934403                                                                                                        \n",
       "specificity  0.981047                                                                                                        \n",
       "recall       0.114035                                                                                                        \n",
       "precision    0.254902                                                                                                        \n",
       "f1_score     0.157576                                                                                                        \n",
       "AUC_CV       0.713697                                                                                                        \n",
       "AUC_train    0.893912                                                                                                        \n",
       "AUC_test     0.830113                                                                                                        \n",
       "best params  {'ada__base_estimator__max_depth': 2, 'ada__learning_rate': 0.3, 'ada__n_estimators': 80, 'sm__k_neighbors': 50}"
      ]
     },
     "execution_count": 16,
     "metadata": {},
     "output_type": "execute_result"
    }
   ],
   "source": [
    "%%time\n",
    "\n",
    "ada_results = get_model('ada', 5, pipe_params={\n",
    "    'sm__k_neighbors': [20, 50, 80], \n",
    "    'ada__n_estimators': [30, 50, 80],\n",
    "    'ada__learning_rate': [0.1, 0.3, 0.7, 1],\n",
    "    'ada__base_estimator__max_depth': [1, 2] \n",
    "})\n",
    "\n",
    "ada_results"
   ]
  },
  {
   "cell_type": "markdown",
   "id": "6a0d735e",
   "metadata": {},
   "source": [
    "### XGBoost"
   ]
  },
  {
   "cell_type": "code",
   "execution_count": 36,
   "id": "2f5a0730",
   "metadata": {
    "scrolled": true
   },
   "outputs": [
    {
     "name": "stdout",
     "output_type": "stream",
     "text": [
      "Fitting 5 folds for each of 576 candidates, totalling 2880 fits\n",
      "[13:34:07] WARNING: /opt/concourse/worker/volumes/live/7a2b9f41-3287-451b-6691-43e9a6c0910f/volume/xgboost-split_1619728204606/work/src/learner.cc:1061: Starting in XGBoost 1.3.0, the default evaluation metric used with the objective 'binary:logistic' was changed from 'error' to 'logloss'. Explicitly set eval_metric if you'd like to restore the old behavior.\n"
     ]
    },
    {
     "name": "stderr",
     "output_type": "stream",
     "text": [
      "/Users/benjaminpoh/opt/anaconda3/envs/dsi24/lib/python3.8/site-packages/xgboost/sklearn.py:888: UserWarning: The use of label encoder in XGBClassifier is deprecated and will be removed in a future release. To remove this warning, do the following: 1) Pass option use_label_encoder=False when constructing XGBClassifier object; and 2) Encode your labels (y) as integers starting with 0, i.e. 0, 1, 2, ..., [num_class - 1].\n",
      "  warnings.warn(label_encoder_deprecation_msg, UserWarning)\n"
     ]
    },
    {
     "name": "stdout",
     "output_type": "stream",
     "text": [
      "[13:34:08] WARNING: /opt/concourse/worker/volumes/live/7a2b9f41-3287-451b-6691-43e9a6c0910f/volume/xgboost-split_1619728204606/work/src/learner.cc:1061: Starting in XGBoost 1.3.0, the default evaluation metric used with the objective 'binary:logistic' was changed from 'error' to 'logloss'. Explicitly set eval_metric if you'd like to restore the old behavior.\n"
     ]
    },
    {
     "name": "stderr",
     "output_type": "stream",
     "text": [
      "/Users/benjaminpoh/opt/anaconda3/envs/dsi24/lib/python3.8/site-packages/xgboost/sklearn.py:888: UserWarning: The use of label encoder in XGBClassifier is deprecated and will be removed in a future release. To remove this warning, do the following: 1) Pass option use_label_encoder=False when constructing XGBClassifier object; and 2) Encode your labels (y) as integers starting with 0, i.e. 0, 1, 2, ..., [num_class - 1].\n",
      "  warnings.warn(label_encoder_deprecation_msg, UserWarning)\n"
     ]
    },
    {
     "name": "stdout",
     "output_type": "stream",
     "text": [
      "[13:34:09] WARNING: /opt/concourse/worker/volumes/live/7a2b9f41-3287-451b-6691-43e9a6c0910f/volume/xgboost-split_1619728204606/work/src/learner.cc:1061: Starting in XGBoost 1.3.0, the default evaluation metric used with the objective 'binary:logistic' was changed from 'error' to 'logloss'. Explicitly set eval_metric if you'd like to restore the old behavior.\n"
     ]
    },
    {
     "name": "stderr",
     "output_type": "stream",
     "text": [
      "/Users/benjaminpoh/opt/anaconda3/envs/dsi24/lib/python3.8/site-packages/xgboost/sklearn.py:888: UserWarning: The use of label encoder in XGBClassifier is deprecated and will be removed in a future release. To remove this warning, do the following: 1) Pass option use_label_encoder=False when constructing XGBClassifier object; and 2) Encode your labels (y) as integers starting with 0, i.e. 0, 1, 2, ..., [num_class - 1].\n",
      "  warnings.warn(label_encoder_deprecation_msg, UserWarning)\n"
     ]
    },
    {
     "name": "stdout",
     "output_type": "stream",
     "text": [
      "[13:34:09] WARNING: /opt/concourse/worker/volumes/live/7a2b9f41-3287-451b-6691-43e9a6c0910f/volume/xgboost-split_1619728204606/work/src/learner.cc:1061: Starting in XGBoost 1.3.0, the default evaluation metric used with the objective 'binary:logistic' was changed from 'error' to 'logloss'. Explicitly set eval_metric if you'd like to restore the old behavior.\n"
     ]
    },
    {
     "name": "stderr",
     "output_type": "stream",
     "text": [
      "/Users/benjaminpoh/opt/anaconda3/envs/dsi24/lib/python3.8/site-packages/xgboost/sklearn.py:888: UserWarning: The use of label encoder in XGBClassifier is deprecated and will be removed in a future release. To remove this warning, do the following: 1) Pass option use_label_encoder=False when constructing XGBClassifier object; and 2) Encode your labels (y) as integers starting with 0, i.e. 0, 1, 2, ..., [num_class - 1].\n",
      "  warnings.warn(label_encoder_deprecation_msg, UserWarning)\n"
     ]
    },
    {
     "name": "stdout",
     "output_type": "stream",
     "text": [
      "[13:34:10] WARNING: /opt/concourse/worker/volumes/live/7a2b9f41-3287-451b-6691-43e9a6c0910f/volume/xgboost-split_1619728204606/work/src/learner.cc:1061: Starting in XGBoost 1.3.0, the default evaluation metric used with the objective 'binary:logistic' was changed from 'error' to 'logloss'. Explicitly set eval_metric if you'd like to restore the old behavior.\n"
     ]
    },
    {
     "name": "stderr",
     "output_type": "stream",
     "text": [
      "/Users/benjaminpoh/opt/anaconda3/envs/dsi24/lib/python3.8/site-packages/xgboost/sklearn.py:888: UserWarning: The use of label encoder in XGBClassifier is deprecated and will be removed in a future release. To remove this warning, do the following: 1) Pass option use_label_encoder=False when constructing XGBClassifier object; and 2) Encode your labels (y) as integers starting with 0, i.e. 0, 1, 2, ..., [num_class - 1].\n",
      "  warnings.warn(label_encoder_deprecation_msg, UserWarning)\n"
     ]
    },
    {
     "name": "stdout",
     "output_type": "stream",
     "text": [
      "[13:34:11] WARNING: /opt/concourse/worker/volumes/live/7a2b9f41-3287-451b-6691-43e9a6c0910f/volume/xgboost-split_1619728204606/work/src/learner.cc:1061: Starting in XGBoost 1.3.0, the default evaluation metric used with the objective 'binary:logistic' was changed from 'error' to 'logloss'. Explicitly set eval_metric if you'd like to restore the old behavior.\n"
     ]
    },
    {
     "data": {
      "text/html": [
       "<div>\n",
       "<style scoped>\n",
       "    .dataframe tbody tr th:only-of-type {\n",
       "        vertical-align: middle;\n",
       "    }\n",
       "\n",
       "    .dataframe tbody tr th {\n",
       "        vertical-align: top;\n",
       "    }\n",
       "\n",
       "    .dataframe thead th {\n",
       "        text-align: right;\n",
       "    }\n",
       "</style>\n",
       "<table border=\"1\" class=\"dataframe\">\n",
       "  <thead>\n",
       "    <tr style=\"text-align: right;\">\n",
       "      <th></th>\n",
       "      <th>xgb</th>\n",
       "    </tr>\n",
       "  </thead>\n",
       "  <tbody>\n",
       "    <tr>\n",
       "      <th>model</th>\n",
       "      <td>xgb</td>\n",
       "    </tr>\n",
       "    <tr>\n",
       "      <th>accuracy</th>\n",
       "      <td>0.873997</td>\n",
       "    </tr>\n",
       "    <tr>\n",
       "      <th>specificity</th>\n",
       "      <td>0.895761</td>\n",
       "    </tr>\n",
       "    <tr>\n",
       "      <th>recall</th>\n",
       "      <td>0.491228</td>\n",
       "    </tr>\n",
       "    <tr>\n",
       "      <th>precision</th>\n",
       "      <td>0.211321</td>\n",
       "    </tr>\n",
       "    <tr>\n",
       "      <th>f1_score</th>\n",
       "      <td>0.295515</td>\n",
       "    </tr>\n",
       "    <tr>\n",
       "      <th>AUC_CV</th>\n",
       "      <td>0.833137</td>\n",
       "    </tr>\n",
       "    <tr>\n",
       "      <th>AUC_train</th>\n",
       "      <td>0.903746</td>\n",
       "    </tr>\n",
       "    <tr>\n",
       "      <th>AUC_test</th>\n",
       "      <td>0.839701</td>\n",
       "    </tr>\n",
       "    <tr>\n",
       "      <th>best params</th>\n",
       "      <td>{'xgb__colsample_bytree': 1, 'xgb__gamma': 0.1, 'xgb__learning_rate': 0.17, 'xgb__max_depth': 3, 'xgb__min_child_weight': 1, 'xgb__n_estimators': 300, 'xgb__objective': 'binary:logistic', 'xgb__reg_alpha': 10, 'xgb__reg_lambda': 50, 'xgb__subsample': 0.5, 'xgb__use_label_encoder': False}</td>\n",
       "    </tr>\n",
       "  </tbody>\n",
       "</table>\n",
       "</div>"
      ],
      "text/plain": [
       "                                                                                                                                                                                                                                                                                                          xgb\n",
       "model        xgb                                                                                                                                                                                                                                                                                             \n",
       "accuracy     0.873997                                                                                                                                                                                                                                                                                        \n",
       "specificity  0.895761                                                                                                                                                                                                                                                                                        \n",
       "recall       0.491228                                                                                                                                                                                                                                                                                        \n",
       "precision    0.211321                                                                                                                                                                                                                                                                                        \n",
       "f1_score     0.295515                                                                                                                                                                                                                                                                                        \n",
       "AUC_CV       0.833137                                                                                                                                                                                                                                                                                        \n",
       "AUC_train    0.903746                                                                                                                                                                                                                                                                                        \n",
       "AUC_test     0.839701                                                                                                                                                                                                                                                                                        \n",
       "best params  {'xgb__colsample_bytree': 1, 'xgb__gamma': 0.1, 'xgb__learning_rate': 0.17, 'xgb__max_depth': 3, 'xgb__min_child_weight': 1, 'xgb__n_estimators': 300, 'xgb__objective': 'binary:logistic', 'xgb__reg_alpha': 10, 'xgb__reg_lambda': 50, 'xgb__subsample': 0.5, 'xgb__use_label_encoder': False}"
      ]
     },
     "execution_count": 36,
     "metadata": {},
     "output_type": "execute_result"
    }
   ],
   "source": [
    "xgb_results = get_model('xgb', 5, pipe_params={\n",
    "    'xgb__use_label_encoder' : [False],\n",
    "    'xgb__subsample' : [1, 0.5],\n",
    "    'xgb__colsample_bytree' : [1, 0.75],\n",
    "    'xgb__learning_rate' : [0.17, 0.1],\n",
    "    'xgb__min_child_weight': [1, 3],\n",
    "    'xgb__max_depth' : [3],\n",
    "    'xgb__n_estimators' : [300, 100],\n",
    "    'xgb__reg_alpha' : [5, 1, 10],\n",
    "    'xgb__reg_lambda' : [35, 10, 50],\n",
    "    'xgb__gamma' : [0.05, 0.1],\n",
    "    'xgb__objective' : ['binary:logistic']})\n",
    "\n",
    "xgb_results"
   ]
  },
  {
   "cell_type": "markdown",
   "id": "371aca04",
   "metadata": {},
   "source": [
    "## Summary"
   ]
  },
  {
   "cell_type": "markdown",
   "id": "c3b85a32",
   "metadata": {},
   "source": [
    "Overall, we chose the Gradient Boost model. \n",
    "- Even though the ADA Boost model provided the best AUC score, it performs poorly in terms of recall and has the lowest F1 score.\n",
    "- On the other hand, the Gradient Boost model has the 2nd best AUC score @ 82.8% and have the best F1 score. This is represented by fairly balanced recall and precision scores.\n",
    "- In addition, we are trying to reduce false negatives (we want to avoid predicting 'no WNV' incorrectly), hence choosing the Gradient Boost over ADA Boost was an obvious decision since it has a much higher recall score (49% vs 11%)"
   ]
  },
  {
   "cell_type": "code",
   "execution_count": 105,
   "id": "4d7bd898",
   "metadata": {},
   "outputs": [
    {
     "data": {
      "text/html": [
       "<div>\n",
       "<style scoped>\n",
       "    .dataframe tbody tr th:only-of-type {\n",
       "        vertical-align: middle;\n",
       "    }\n",
       "\n",
       "    .dataframe tbody tr th {\n",
       "        vertical-align: top;\n",
       "    }\n",
       "\n",
       "    .dataframe thead th {\n",
       "        text-align: right;\n",
       "    }\n",
       "</style>\n",
       "<table border=\"1\" class=\"dataframe\">\n",
       "  <thead>\n",
       "    <tr style=\"text-align: right;\">\n",
       "      <th></th>\n",
       "      <th>accuracy</th>\n",
       "      <th>specificity</th>\n",
       "      <th>recall</th>\n",
       "      <th>precision</th>\n",
       "      <th>f1_score</th>\n",
       "      <th>AUC_CV</th>\n",
       "      <th>AUC_train</th>\n",
       "      <th>AUC_test</th>\n",
       "      <th>best params</th>\n",
       "    </tr>\n",
       "  </thead>\n",
       "  <tbody>\n",
       "    <tr>\n",
       "      <th>ada</th>\n",
       "      <td>0.934403</td>\n",
       "      <td>0.981047</td>\n",
       "      <td>0.114035</td>\n",
       "      <td>0.254902</td>\n",
       "      <td>0.157576</td>\n",
       "      <td>0.713697</td>\n",
       "      <td>0.893912</td>\n",
       "      <td>0.830113</td>\n",
       "      <td>{'ada__base_estimator__max_depth': 2, 'ada__learning_rate': 0.3, 'ada__n_estimators': 80, 'sm__k_neighbors': 50}</td>\n",
       "    </tr>\n",
       "    <tr>\n",
       "      <th>gb</th>\n",
       "      <td>0.879188</td>\n",
       "      <td>0.901247</td>\n",
       "      <td>0.491228</td>\n",
       "      <td>0.220472</td>\n",
       "      <td>0.304348</td>\n",
       "      <td>0.837726</td>\n",
       "      <td>0.894464</td>\n",
       "      <td>0.828094</td>\n",
       "      <td>{'gb__learning_rate': 0.1, 'gb__max_depth': 3, 'gb__min_samples_leaf': 10, 'gb__min_samples_split': 15, 'gb__n_estimators': 150}</td>\n",
       "    </tr>\n",
       "    <tr>\n",
       "      <th>lr</th>\n",
       "      <td>0.73714</td>\n",
       "      <td>0.735661</td>\n",
       "      <td>0.763158</td>\n",
       "      <td>0.141005</td>\n",
       "      <td>0.23803</td>\n",
       "      <td>0.833047</td>\n",
       "      <td>0.844653</td>\n",
       "      <td>0.817984</td>\n",
       "      <td>{'lr__C': 1.023292992280754, 'lr__max_iter': 1000, 'lr__solver': 'saga'}</td>\n",
       "    </tr>\n",
       "    <tr>\n",
       "      <th>rf</th>\n",
       "      <td>0.90184</td>\n",
       "      <td>0.931172</td>\n",
       "      <td>0.385965</td>\n",
       "      <td>0.241758</td>\n",
       "      <td>0.297297</td>\n",
       "      <td>0.761421</td>\n",
       "      <td>0.937813</td>\n",
       "      <td>0.814715</td>\n",
       "      <td>{'rf__min_samples_leaf': 5, 'rf__min_samples_split': 3, 'rf__n_estimators': 100}</td>\n",
       "    </tr>\n",
       "    <tr>\n",
       "      <th>knn</th>\n",
       "      <td>0.746579</td>\n",
       "      <td>0.74813</td>\n",
       "      <td>0.719298</td>\n",
       "      <td>0.139693</td>\n",
       "      <td>0.233951</td>\n",
       "      <td>0.729757</td>\n",
       "      <td>0.904566</td>\n",
       "      <td>0.784709</td>\n",
       "      <td>{'knn__leaf_size': 10, 'knn__n_neighbors': 50, 'knn__p': 1}</td>\n",
       "    </tr>\n",
       "  </tbody>\n",
       "</table>\n",
       "</div>"
      ],
      "text/plain": [
       "     accuracy specificity    recall precision  f1_score    AUC_CV AUC_train  \\\n",
       "ada  0.934403  0.981047    0.114035  0.254902  0.157576  0.713697  0.893912   \n",
       "gb   0.879188  0.901247    0.491228  0.220472  0.304348  0.837726  0.894464   \n",
       "lr   0.73714   0.735661    0.763158  0.141005  0.23803   0.833047  0.844653   \n",
       "rf   0.90184   0.931172    0.385965  0.241758  0.297297  0.761421  0.937813   \n",
       "knn  0.746579  0.74813     0.719298  0.139693  0.233951  0.729757  0.904566   \n",
       "\n",
       "     AUC_test  \\\n",
       "ada  0.830113   \n",
       "gb   0.828094   \n",
       "lr   0.817984   \n",
       "rf   0.814715   \n",
       "knn  0.784709   \n",
       "\n",
       "                                                                                                                          best params  \n",
       "ada  {'ada__base_estimator__max_depth': 2, 'ada__learning_rate': 0.3, 'ada__n_estimators': 80, 'sm__k_neighbors': 50}                  \n",
       "gb   {'gb__learning_rate': 0.1, 'gb__max_depth': 3, 'gb__min_samples_leaf': 10, 'gb__min_samples_split': 15, 'gb__n_estimators': 150}  \n",
       "lr   {'lr__C': 1.023292992280754, 'lr__max_iter': 1000, 'lr__solver': 'saga'}                                                          \n",
       "rf   {'rf__min_samples_leaf': 5, 'rf__min_samples_split': 3, 'rf__n_estimators': 100}                                                  \n",
       "knn  {'knn__leaf_size': 10, 'knn__n_neighbors': 50, 'knn__p': 1}                                                                       "
      ]
     },
     "execution_count": 105,
     "metadata": {},
     "output_type": "execute_result"
    }
   ],
   "source": [
    "overall_df = pd.concat([lr_results, rf_results, knn_results, gb_results, ada_results], axis=1).T\n",
    "overall_df.sort_values(ascending=False, by='AUC_test').drop(columns=['model'])"
   ]
  },
  {
   "cell_type": "code",
   "execution_count": 109,
   "id": "db7e6d05",
   "metadata": {},
   "outputs": [
    {
     "name": "stdout",
     "output_type": "stream",
     "text": [
      "Fitting 5 folds for each of 1 candidates, totalling 5 fits\n"
     ]
    }
   ],
   "source": [
    "ss = StandardScaler()\n",
    "Xsc_train = ss.fit_transform(X_train)\n",
    "Xsc_test = ss.transform(X_test)\n",
    "\n",
    "pipe = imbpipeline([\n",
    "                ('sm', SMOTE(random_state=42)), \n",
    "                ('gb', GradientBoostingClassifier()),\n",
    "            ])\n",
    "\n",
    "pipe_params = {\n",
    "    'gb__learning_rate': [0.1], \n",
    "    'gb__max_depth': [3], \n",
    "    'gb__min_samples_leaf': [10], \n",
    "     'gb__min_samples_split': [15], \n",
    "     'gb__n_estimators': [150]\n",
    "}\n",
    "    \n",
    "#GriSesarchCV on user assigned parameters\n",
    "gb_gridsearch = GridSearchCV(pipe, pipe_params, cv=5, scoring='roc_auc', verbose=1, n_jobs=-1)\n",
    "    \n",
    "gb_gridsearch.fit(Xsc_train, y_train)\n",
    "\n",
    "gb_preds = gb_gridsearch.predict(Xsc_test)\n",
    "tn, fp, fn, tp = confusion_matrix(y_test, gb_preds).ravel()\n",
    "\n",
    "gb_model_probs_train = gb_gridsearch.predict_proba(Xsc_train)[:, 1]\n",
    "gb_model_probs_test = gb_gridsearch.predict_proba(Xsc_test)[:, 1]\n",
    "gb_roc_auc = cross_val_score(pipe, Xsc_train, y_train, scoring='roc_auc', cv=5)\n"
   ]
  },
  {
   "cell_type": "markdown",
   "id": "948d98b8",
   "metadata": {},
   "source": [
    "### ROC-AUC curve"
   ]
  },
  {
   "cell_type": "code",
   "execution_count": 140,
   "id": "41d5806f",
   "metadata": {},
   "outputs": [
    {
     "data": {
      "image/png": "[encoded data removed]",
      "text/plain": [
       "<Figure size 432x288 with 1 Axes>"
      ]
     },
     "metadata": {
      "needs_background": "light"
     },
     "output_type": "display_data"
    }
   ],
   "source": [
    "plot_roc_curve(gb_gridsearch, Xsc_test, y_test, name='Gradient Boost')\n",
    "plt.plot([0, 1], [0, 1],\n",
    "         label='baseline', linestyle='--')\n",
    "plt.legend();"
   ]
  },
  {
   "cell_type": "markdown",
   "id": "b00fb961",
   "metadata": {},
   "source": [
    "### Confusion Matrix"
   ]
  },
  {
   "cell_type": "code",
   "execution_count": 136,
   "id": "0a49f30f",
   "metadata": {},
   "outputs": [
    {
     "data": {
      "text/plain": [
       "<sklearn.metrics._plot.confusion_matrix.ConfusionMatrixDisplay at 0x7fe264418340>"
      ]
     },
     "execution_count": 136,
     "metadata": {},
     "output_type": "execute_result"
    },
    {
     "data": {
      "image/png": "[encoded data removed]",
      "text/plain": [
       "<Figure size 432x288 with 2 Axes>"
      ]
     },
     "metadata": {
      "needs_background": "light"
     },
     "output_type": "display_data"
    }
   ],
   "source": [
    "plot_confusion_matrix(gb_gridsearch, Xsc_test, y_test,cmap='Blues', \n",
    "                      values_format='d', \n",
    "                      display_labels=[\"WMV Absent\", \"WMV Present\"])"
   ]
  },
  {
   "cell_type": "markdown",
   "id": "01f021cb",
   "metadata": {},
   "source": [
    "### Feature Analysis"
   ]
  },
  {
   "cell_type": "code",
   "execution_count": 131,
   "id": "b5a72532",
   "metadata": {},
   "outputs": [
    {
     "data": {
      "text/html": [
       "<div>\n",
       "<style scoped>\n",
       "    .dataframe tbody tr th:only-of-type {\n",
       "        vertical-align: middle;\n",
       "    }\n",
       "\n",
       "    .dataframe tbody tr th {\n",
       "        vertical-align: top;\n",
       "    }\n",
       "\n",
       "    .dataframe thead th {\n",
       "        text-align: right;\n",
       "    }\n",
       "</style>\n",
       "<table border=\"1\" class=\"dataframe\">\n",
       "  <thead>\n",
       "    <tr style=\"text-align: right;\">\n",
       "      <th></th>\n",
       "      <th>Feature Importance</th>\n",
       "    </tr>\n",
       "  </thead>\n",
       "  <tbody>\n",
       "    <tr>\n",
       "      <th>mth_8</th>\n",
       "      <td>0.282055</td>\n",
       "    </tr>\n",
       "    <tr>\n",
       "      <th>Tavg</th>\n",
       "      <td>0.102997</td>\n",
       "    </tr>\n",
       "    <tr>\n",
       "      <th>AvgSpeed</th>\n",
       "      <td>0.075772</td>\n",
       "    </tr>\n",
       "    <tr>\n",
       "      <th>CULEX RESTUANS</th>\n",
       "      <td>0.070716</td>\n",
       "    </tr>\n",
       "    <tr>\n",
       "      <th>DewPoint</th>\n",
       "      <td>0.064381</td>\n",
       "    </tr>\n",
       "    <tr>\n",
       "      <th>mth_9</th>\n",
       "      <td>0.064200</td>\n",
       "    </tr>\n",
       "    <tr>\n",
       "      <th>DewPoint very_high_risk</th>\n",
       "      <td>0.057172</td>\n",
       "    </tr>\n",
       "    <tr>\n",
       "      <th>relative_humidity</th>\n",
       "      <td>0.056720</td>\n",
       "    </tr>\n",
       "    <tr>\n",
       "      <th>medium_risk</th>\n",
       "      <td>0.055286</td>\n",
       "    </tr>\n",
       "    <tr>\n",
       "      <th>high_risk</th>\n",
       "      <td>0.039160</td>\n",
       "    </tr>\n",
       "    <tr>\n",
       "      <th>PrecipTotal</th>\n",
       "      <td>0.026878</td>\n",
       "    </tr>\n",
       "    <tr>\n",
       "      <th>Tavg very_high_risk</th>\n",
       "      <td>0.024304</td>\n",
       "    </tr>\n",
       "    <tr>\n",
       "      <th>very_high_risk relative_humidity</th>\n",
       "      <td>0.016123</td>\n",
       "    </tr>\n",
       "    <tr>\n",
       "      <th>Rain</th>\n",
       "      <td>0.013154</td>\n",
       "    </tr>\n",
       "    <tr>\n",
       "      <th>CULEX TERRITANS</th>\n",
       "      <td>0.010832</td>\n",
       "    </tr>\n",
       "    <tr>\n",
       "      <th>Mist</th>\n",
       "      <td>0.010795</td>\n",
       "    </tr>\n",
       "    <tr>\n",
       "      <th>mth_7</th>\n",
       "      <td>0.006843</td>\n",
       "    </tr>\n",
       "    <tr>\n",
       "      <th>DewPoint CULEX PIPIENS</th>\n",
       "      <td>0.006577</td>\n",
       "    </tr>\n",
       "    <tr>\n",
       "      <th>low_risk</th>\n",
       "      <td>0.005428</td>\n",
       "    </tr>\n",
       "    <tr>\n",
       "      <th>CULEX PIPIENS/RESTUANS</th>\n",
       "      <td>0.003840</td>\n",
       "    </tr>\n",
       "    <tr>\n",
       "      <th>Dust</th>\n",
       "      <td>0.003215</td>\n",
       "    </tr>\n",
       "    <tr>\n",
       "      <th>CULEX SALINARIUS</th>\n",
       "      <td>0.001663</td>\n",
       "    </tr>\n",
       "    <tr>\n",
       "      <th>CULEX PIPIENS</th>\n",
       "      <td>0.001235</td>\n",
       "    </tr>\n",
       "    <tr>\n",
       "      <th>CULEX PIPIENS very_high_risk</th>\n",
       "      <td>0.000655</td>\n",
       "    </tr>\n",
       "    <tr>\n",
       "      <th>very_high_risk</th>\n",
       "      <td>0.000000</td>\n",
       "    </tr>\n",
       "    <tr>\n",
       "      <th>CULEX TARSALIS</th>\n",
       "      <td>0.000000</td>\n",
       "    </tr>\n",
       "    <tr>\n",
       "      <th>mth_10</th>\n",
       "      <td>0.000000</td>\n",
       "    </tr>\n",
       "  </tbody>\n",
       "</table>\n",
       "</div>"
      ],
      "text/plain": [
       "                                  Feature Importance\n",
       "mth_8                             0.282055          \n",
       "Tavg                              0.102997          \n",
       "AvgSpeed                          0.075772          \n",
       "CULEX RESTUANS                    0.070716          \n",
       "DewPoint                          0.064381          \n",
       "mth_9                             0.064200          \n",
       "DewPoint very_high_risk           0.057172          \n",
       "relative_humidity                 0.056720          \n",
       "medium_risk                       0.055286          \n",
       "high_risk                         0.039160          \n",
       "PrecipTotal                       0.026878          \n",
       "Tavg very_high_risk               0.024304          \n",
       "very_high_risk relative_humidity  0.016123          \n",
       "Rain                              0.013154          \n",
       "CULEX TERRITANS                   0.010832          \n",
       "Mist                              0.010795          \n",
       "mth_7                             0.006843          \n",
       "DewPoint CULEX PIPIENS            0.006577          \n",
       "low_risk                          0.005428          \n",
       "CULEX PIPIENS/RESTUANS            0.003840          \n",
       "Dust                              0.003215          \n",
       "CULEX SALINARIUS                  0.001663          \n",
       "CULEX PIPIENS                     0.001235          \n",
       "CULEX PIPIENS very_high_risk      0.000655          \n",
       "very_high_risk                    0.000000          \n",
       "CULEX TARSALIS                    0.000000          \n",
       "mth_10                            0.000000          "
      ]
     },
     "execution_count": 131,
     "metadata": {},
     "output_type": "execute_result"
    }
   ],
   "source": [
    "feature_importance = pd.DataFrame(gb_gridsearch.best_estimator_.steps[1][1].feature_importances_, index = X_train.columns, columns=['Feature Importance']).sort_values(by='Feature Importance', ascending=False)\n",
    "feature_importance"
   ]
  },
  {
   "cell_type": "markdown",
   "id": "037b1696",
   "metadata": {},
   "source": [
    "## Kaggle Model"
   ]
  },
  {
   "cell_type": "markdown",
   "id": "88c915da",
   "metadata": {},
   "source": [
    "The model that we have decided to use is the Gradient Boost model and these are the parameters which we will use to run our predictions on for the Kaggle competition. We obtained a Kaggle score of nearly 70%.\n",
    "\n"
   ]
  },
  {
   "cell_type": "code",
   "execution_count": 21,
   "id": "d08d7185",
   "metadata": {},
   "outputs": [],
   "source": [
    "#Import full train and test dataset\n",
    "\n",
    "X_full_train = train_weather.drop(columns=['WnvPresent'])\n",
    "X_full_test = test_weather.drop(columns=['Id'])\n",
    "y_full_train = train_weather['WnvPresent']\n"
   ]
  },
  {
   "cell_type": "code",
   "execution_count": 145,
   "id": "072dd5c4",
   "metadata": {},
   "outputs": [
    {
     "name": "stdout",
     "output_type": "stream",
     "text": [
      "Fitting 5 folds for each of 1 candidates, totalling 5 fits\n"
     ]
    },
    {
     "data": {
      "text/html": [
       "<div>\n",
       "<style scoped>\n",
       "    .dataframe tbody tr th:only-of-type {\n",
       "        vertical-align: middle;\n",
       "    }\n",
       "\n",
       "    .dataframe tbody tr th {\n",
       "        vertical-align: top;\n",
       "    }\n",
       "\n",
       "    .dataframe thead th {\n",
       "        text-align: right;\n",
       "    }\n",
       "</style>\n",
       "<table border=\"1\" class=\"dataframe\">\n",
       "  <thead>\n",
       "    <tr style=\"text-align: right;\">\n",
       "      <th></th>\n",
       "      <th>Gradient Boost</th>\n",
       "    </tr>\n",
       "  </thead>\n",
       "  <tbody>\n",
       "    <tr>\n",
       "      <th>model</th>\n",
       "      <td>Gradient Boost</td>\n",
       "    </tr>\n",
       "    <tr>\n",
       "      <th>AUC_CV</th>\n",
       "      <td>0.621277</td>\n",
       "    </tr>\n",
       "    <tr>\n",
       "      <th>best params</th>\n",
       "      <td>{'gb__learning_rate': 0.1, 'gb__max_depth': 3, 'gb__min_samples_leaf': 10, 'gb__min_samples_split': 15, 'gb__n_estimators': 150}</td>\n",
       "    </tr>\n",
       "  </tbody>\n",
       "</table>\n",
       "</div>"
      ],
      "text/plain": [
       "                                                                                                                               Gradient Boost\n",
       "model        Gradient Boost                                                                                                                  \n",
       "AUC_CV       0.621277                                                                                                                        \n",
       "best params  {'gb__learning_rate': 0.1, 'gb__max_depth': 3, 'gb__min_samples_leaf': 10, 'gb__min_samples_split': 15, 'gb__n_estimators': 150}"
      ]
     },
     "execution_count": 145,
     "metadata": {},
     "output_type": "execute_result"
    }
   ],
   "source": [
    "ss = StandardScaler()\n",
    "X_full_train_sc = ss.fit_transform(X_full_train)\n",
    "X_full_test_sc = ss.transform(X_full_test)\n",
    "\n",
    "pipe = imbpipeline([\n",
    "                ('sm', SMOTE(random_state=42)), \n",
    "                ('gb', GradientBoostingClassifier()),\n",
    "            ])\n",
    "\n",
    "pipe_params = {\n",
    "    'gb__learning_rate': [0.1], \n",
    "    'gb__max_depth': [3], \n",
    "    'gb__min_samples_leaf': [10], \n",
    "     'gb__min_samples_split': [15], \n",
    "     'gb__n_estimators': [150]\n",
    "}\n",
    "    \n",
    "gridsearch = GridSearchCV(pipe, pipe_params, cv=5, scoring='roc_auc', verbose=1, n_jobs=-1)\n",
    "    \n",
    "gridsearch.fit(X_full_train_sc, y_full_train)\n",
    "    \n",
    "preds = gridsearch.predict_proba(X_full_test_sc)\n",
    "best_params = gridsearch.best_params_\n",
    "\n",
    "model_probs_train = gridsearch.predict_proba(X_full_train_sc)[:, 1]\n",
    "model_probs_test = gridsearch.predict_proba(X_full_test_sc)[:, 1]\n",
    "roc_auc = cross_val_score(pipe, X_full_train_sc, y_full_train, scoring='roc_auc', cv=5)\n",
    "\n",
    "summary_final ={\n",
    "        'model': 'Gradient Boost',\n",
    "        'AUC_CV': roc_auc.mean(),\n",
    "        'best params': best_params}\n",
    "\n",
    "\n",
    "summary_final_df = pd.DataFrame.from_dict(summary_final, orient='Index', columns=['Gradient Boost'])\n",
    "summary_final_df"
   ]
  },
  {
   "cell_type": "code",
   "execution_count": 146,
   "id": "b50b3490",
   "metadata": {},
   "outputs": [],
   "source": [
    "#Put prediceted 'WnvPresent' into dataframe\n",
    "\n",
    "predict_y=pd.DataFrame(preds[:,1])\n",
    "predict_y =predict_y.rename(columns={0:'WnvPresent'})"
   ]
  },
  {
   "cell_type": "code",
   "execution_count": 147,
   "id": "8efdc288",
   "metadata": {},
   "outputs": [],
   "source": [
    "submission = pd.read_csv(r'../datasets/sampleSubmission.csv')\n",
    "submission['WnvPresent'] = predict_y['WnvPresent']"
   ]
  },
  {
   "cell_type": "code",
   "execution_count": 148,
   "id": "22c7d426",
   "metadata": {},
   "outputs": [],
   "source": [
    "submission.to_csv(r'../datasets/sampleSubmission_final.csv', index=False)"
   ]
  },
  {
   "cell_type": "markdown",
   "id": "71a57ae0",
   "metadata": {},
   "source": [
    "<img src=\"https://i.imgur.com/QVKISnG.png\" style=\"float: center; margin: 20px; height: 400px\">"
   ]
  }
 ],
 "metadata": {
  "kernelspec": {
   "display_name": "Python 3",
   "language": "python",
   "name": "python3"
  },
  "language_info": {
   "codemirror_mode": {
    "name": "ipython",
    "version": 3
   },
   "file_extension": ".py",
   "mimetype": "text/x-python",
   "name": "python",
   "nbconvert_exporter": "python",
   "pygments_lexer": "ipython3",
   "version": "3.8.2"
  },
  "toc": {
   "base_numbering": 1,
   "nav_menu": {},
   "number_sections": true,
   "sideBar": true,
   "skip_h1_title": false,
   "title_cell": "Table of Contents",
   "title_sidebar": "Contents",
   "toc_cell": false,
   "toc_position": {
    "height": "calc(100% - 180px)",
    "left": "10px",
    "top": "150px",
    "width": "288px"
   },
   "toc_section_display": true,
   "toc_window_display": true
  }
 },
 "nbformat": 4,
 "nbformat_minor": 5
}
