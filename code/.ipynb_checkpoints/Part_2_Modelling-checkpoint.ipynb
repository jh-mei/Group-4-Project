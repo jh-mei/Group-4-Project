{
 "cells": [
  {
   "cell_type": "markdown",
   "id": "b4ae51d2",
   "metadata": {},
   "source": [
    "**Project 4** - Group 2 (Emma, Gabriel, Ben, Junhao)"
   ]
  },
  {
   "cell_type": "markdown",
   "id": "1414a827",
   "metadata": {},
   "source": [
    "<br>"
   ]
  },
  {
   "cell_type": "markdown",
   "id": "41fc0867",
   "metadata": {},
   "source": [
    "<font size=\"6\">Part 2: Modelling"
   ]
  },
  {
   "cell_type": "markdown",
   "id": "5ca97971",
   "metadata": {},
   "source": [
    "## Load Libraries / Import Datasets"
   ]
  },
  {
   "cell_type": "code",
   "execution_count": 139,
   "id": "cfb65cc8",
   "metadata": {},
   "outputs": [],
   "source": [
    "import pandas as pd\n",
    "import numpy as np\n",
    "import matplotlib.pyplot as plt\n",
    "import seaborn as sns\n",
    "from geopy.distance import geodesic\n",
    "\n",
    "from sklearn.preprocessing import OneHotEncoder, StandardScaler, PolynomialFeatures\n",
    "from sklearn.naive_bayes import MultinomialNB\n",
    "from sklearn.model_selection import train_test_split, cross_val_score, GridSearchCV\n",
    "\n",
    "from imblearn.over_sampling import SMOTE\n",
    "from imblearn.pipeline import Pipeline as imbpipeline\n",
    "\n",
    "from sklearn.metrics import (\n",
    "    confusion_matrix, \n",
    "    plot_confusion_matrix,\n",
    "    accuracy_score,\n",
    "    plot_roc_curve,\n",
    "    roc_auc_score,\n",
    "    recall_score,\n",
    "    precision_score,\n",
    "    f1_score\n",
    ")\n",
    "\n",
    "from sklearn.ensemble import RandomForestClassifier, GradientBoostingClassifier, AdaBoostClassifier, ExtraTreesClassifier\n",
    "from sklearn.linear_model import LogisticRegression\n",
    "from sklearn.tree import DecisionTreeClassifier\n",
    "from sklearn.neighbors import KNeighborsClassifier\n",
    "\n",
    "import xgboost as xgb\n",
    "from xgboost import XGBClassifier\n",
    "\n",
    "pd.set_option('display.max_colwidth', 0)"
   ]
  },
  {
   "cell_type": "code",
   "execution_count": 106,
   "id": "87dbbfca",
   "metadata": {},
   "outputs": [],
   "source": [
    "train_weather = pd.read_csv(r'../datasets/train_weather_v3.csv')\n",
    "test_weather = pd.read_csv(r'../datasets/test_weather_v3.csv')\n",
    "submission = pd.read_csv(r'../datasets/sampleSubmission.csv')"
   ]
  },
  {
   "cell_type": "markdown",
   "id": "308183ac",
   "metadata": {},
   "source": [
    "The cleaned test dataset has ~13 times more entries than the train dataset."
   ]
  },
  {
   "cell_type": "code",
   "execution_count": 3,
   "id": "6667862c",
   "metadata": {},
   "outputs": [
    {
     "data": {
      "text/plain": [
       "(8475, 29)"
      ]
     },
     "execution_count": 3,
     "metadata": {},
     "output_type": "execute_result"
    }
   ],
   "source": [
    "train_weather.shape"
   ]
  },
  {
   "cell_type": "code",
   "execution_count": 4,
   "id": "465aed5a",
   "metadata": {},
   "outputs": [
    {
     "data": {
      "text/plain": [
       "(116293, 29)"
      ]
     },
     "execution_count": 4,
     "metadata": {},
     "output_type": "execute_result"
    }
   ],
   "source": [
    "test_weather.shape"
   ]
  },
  {
   "cell_type": "code",
   "execution_count": null,
   "id": "2420b501",
   "metadata": {},
   "outputs": [],
   "source": []
  },
  {
   "cell_type": "code",
   "execution_count": null,
   "id": "c8a50c99",
   "metadata": {},
   "outputs": [],
   "source": []
  },
  {
   "cell_type": "markdown",
   "id": "ad437ca6",
   "metadata": {},
   "source": [
    "## Functions"
   ]
  },
  {
   "cell_type": "code",
   "execution_count": 170,
   "id": "2f763bd0",
   "metadata": {},
   "outputs": [],
   "source": [
    "def get_model(model, gridcv, pipe_params={}):\n",
    "    '''Function to apply GriSearchCV based on selected model and parameters'''\n",
    "    \n",
    "    #Scale X\n",
    "    ss = StandardScaler()\n",
    "    Xsc_train = ss.fit_transform(X_train)\n",
    "    Xsc_test = ss.transform(X_test)\n",
    "    \n",
    "    #Models to test\n",
    "    models = {'lr': LogisticRegression(),\n",
    "              'nb': MultinomialNB(),\n",
    "              'rf': RandomForestClassifier(),\n",
    "              'et': ExtraTreesClassifier(),\n",
    "              'ada': AdaBoostClassifier(base_estimator=DecisionTreeClassifier()),\n",
    "              'knn': KNeighborsClassifier(),\n",
    "              'gb': GradientBoostingClassifier()\n",
    "              #'xgb': xgb.XGBClassifier()\n",
    "             }\n",
    "    \n",
    "    #pipeline to include SMOTE since this is an unbalanced dataset \n",
    "    pipe = imbpipeline([\n",
    "        ('sm', SMOTE(random_state=42)), \n",
    "        (model, models[model]),\n",
    "            ])\n",
    "    \n",
    "    pipe_params = pipe_params\n",
    "    \n",
    "    #GriSesarchCV on user assigned parameters\n",
    "    gridsearch = GridSearchCV(pipe, pipe_params, cv=gridcv, scoring='roc_auc', verbose=1, n_jobs=-1)\n",
    "    \n",
    "    gridsearch.fit(Xsc_train, y_train)\n",
    "    \n",
    "    #predict on test \n",
    "    preds = gridsearch.predict(Xsc_test)\n",
    "    tn, fp, fn, tp = confusion_matrix(y_test, preds).ravel()\n",
    "\n",
    "    model_probs_train = gridsearch.predict_proba(Xsc_train)[:, 1]\n",
    "    model_probs_test = gridsearch.predict_proba(Xsc_test)[:, 1]\n",
    "    roc_auc = cross_val_score(pipe, Xsc_train, y_train, scoring='roc_auc', cv=gridcv)\n",
    "    best_params = gridsearch.best_params_\n",
    "    \n",
    "    #Metrics to produce\n",
    "    summary ={\n",
    "        'model': model,\n",
    "        'accuracy': accuracy_score(y_test, preds),\n",
    "        'specificity': tn / (tn+fp),\n",
    "        'recall': recall_score(y_test, preds),\n",
    "        'precision': precision_score(y_test, preds),\n",
    "        'f1_score': f1_score(y_test, preds),\n",
    "        'AUC_CV': roc_auc.mean(),\n",
    "        'AUC_train': roc_auc_score(y_train, model_probs_train),\n",
    "        'AUC_test': roc_auc_score(y_test, model_probs_test),\n",
    "        'best params': best_params}\n",
    "    \n",
    "    summary_df = pd.DataFrame.from_dict(summary, orient='Index', columns=[str(model)])\n",
    "\n",
    "    return summary_df"
   ]
  },
  {
   "cell_type": "markdown",
   "id": "28cb81d1",
   "metadata": {},
   "source": [
    "## Modelling"
   ]
  },
  {
   "cell_type": "code",
   "execution_count": 108,
   "id": "24530310",
   "metadata": {},
   "outputs": [],
   "source": [
    "#Train/Test(aka Validation) split on Train dataset \n",
    "\n",
    "X = train_weather.drop(columns=['WnvPresent'])\n",
    "y = train_weather['WnvPresent'] \n",
    "    \n",
    "X_train, X_test, y_train, y_test = train_test_split(X, y, stratify=y, random_state=42)\n",
    "\n",
    "metrics = pd.DataFrame(index=[0])"
   ]
  },
  {
   "cell_type": "code",
   "execution_count": 166,
   "id": "6b447174",
   "metadata": {},
   "outputs": [],
   "source": [
    "X_full_train = train_weather.drop(columns=['WnvPresent'])\n",
    "X_full_test = test_weather"
   ]
  },
  {
   "cell_type": "code",
   "execution_count": null,
   "id": "f250db39",
   "metadata": {},
   "outputs": [],
   "source": [
    "#Scale of X\n",
    "#Fit_transform X_train, and transform X_test (val), X_full_train, X_full_test\n",
    "\n",
    "ss = StandardScaler()\n",
    "Xsc_train = ss.fit_transform(X_train)\n",
    "Xsc_test = ss.transform(X_test)\n",
    "Xsc_full_train = ss.transform(X_full_train)\n",
    "Xsc_full_test = ss.transform(X_full_test)"
   ]
  },
  {
   "cell_type": "markdown",
   "id": "810828ca",
   "metadata": {},
   "source": [
    "### Baseline "
   ]
  },
  {
   "cell_type": "markdown",
   "id": "9027a91c",
   "metadata": {},
   "source": [
    "For the baseline model, we run it a logistic regression model with no parameter tuning. It produced a ROC_AUC test score of 0.81. "
   ]
  },
  {
   "cell_type": "code",
   "execution_count": 150,
   "id": "916340f3",
   "metadata": {},
   "outputs": [
    {
     "name": "stdout",
     "output_type": "stream",
     "text": [
      "Fitting 5 folds for each of 1 candidates, totalling 5 fits\n"
     ]
    },
    {
     "name": "stderr",
     "output_type": "stream",
     "text": [
      "/Users/benjaminpoh/opt/anaconda3/envs/dsi24/lib/python3.8/site-packages/sklearn/linear_model/_logistic.py:763: ConvergenceWarning: lbfgs failed to converge (status=1):\n",
      "STOP: TOTAL NO. of ITERATIONS REACHED LIMIT.\n",
      "\n",
      "Increase the number of iterations (max_iter) or scale the data as shown in:\n",
      "    https://scikit-learn.org/stable/modules/preprocessing.html\n",
      "Please also refer to the documentation for alternative solver options:\n",
      "    https://scikit-learn.org/stable/modules/linear_model.html#logistic-regression\n",
      "  n_iter_i = _check_optimize_result(\n",
      "/Users/benjaminpoh/opt/anaconda3/envs/dsi24/lib/python3.8/site-packages/sklearn/linear_model/_logistic.py:763: ConvergenceWarning: lbfgs failed to converge (status=1):\n",
      "STOP: TOTAL NO. of ITERATIONS REACHED LIMIT.\n",
      "\n",
      "Increase the number of iterations (max_iter) or scale the data as shown in:\n",
      "    https://scikit-learn.org/stable/modules/preprocessing.html\n",
      "Please also refer to the documentation for alternative solver options:\n",
      "    https://scikit-learn.org/stable/modules/linear_model.html#logistic-regression\n",
      "  n_iter_i = _check_optimize_result(\n",
      "/Users/benjaminpoh/opt/anaconda3/envs/dsi24/lib/python3.8/site-packages/sklearn/linear_model/_logistic.py:763: ConvergenceWarning: lbfgs failed to converge (status=1):\n",
      "STOP: TOTAL NO. of ITERATIONS REACHED LIMIT.\n",
      "\n",
      "Increase the number of iterations (max_iter) or scale the data as shown in:\n",
      "    https://scikit-learn.org/stable/modules/preprocessing.html\n",
      "Please also refer to the documentation for alternative solver options:\n",
      "    https://scikit-learn.org/stable/modules/linear_model.html#logistic-regression\n",
      "  n_iter_i = _check_optimize_result(\n",
      "/Users/benjaminpoh/opt/anaconda3/envs/dsi24/lib/python3.8/site-packages/sklearn/linear_model/_logistic.py:763: ConvergenceWarning: lbfgs failed to converge (status=1):\n",
      "STOP: TOTAL NO. of ITERATIONS REACHED LIMIT.\n",
      "\n",
      "Increase the number of iterations (max_iter) or scale the data as shown in:\n",
      "    https://scikit-learn.org/stable/modules/preprocessing.html\n",
      "Please also refer to the documentation for alternative solver options:\n",
      "    https://scikit-learn.org/stable/modules/linear_model.html#logistic-regression\n",
      "  n_iter_i = _check_optimize_result(\n",
      "/Users/benjaminpoh/opt/anaconda3/envs/dsi24/lib/python3.8/site-packages/sklearn/linear_model/_logistic.py:763: ConvergenceWarning: lbfgs failed to converge (status=1):\n",
      "STOP: TOTAL NO. of ITERATIONS REACHED LIMIT.\n",
      "\n",
      "Increase the number of iterations (max_iter) or scale the data as shown in:\n",
      "    https://scikit-learn.org/stable/modules/preprocessing.html\n",
      "Please also refer to the documentation for alternative solver options:\n",
      "    https://scikit-learn.org/stable/modules/linear_model.html#logistic-regression\n",
      "  n_iter_i = _check_optimize_result(\n",
      "/Users/benjaminpoh/opt/anaconda3/envs/dsi24/lib/python3.8/site-packages/sklearn/linear_model/_logistic.py:763: ConvergenceWarning: lbfgs failed to converge (status=1):\n",
      "STOP: TOTAL NO. of ITERATIONS REACHED LIMIT.\n",
      "\n",
      "Increase the number of iterations (max_iter) or scale the data as shown in:\n",
      "    https://scikit-learn.org/stable/modules/preprocessing.html\n",
      "Please also refer to the documentation for alternative solver options:\n",
      "    https://scikit-learn.org/stable/modules/linear_model.html#logistic-regression\n",
      "  n_iter_i = _check_optimize_result(\n"
     ]
    },
    {
     "data": {
      "text/html": [
       "<div>\n",
       "<style scoped>\n",
       "    .dataframe tbody tr th:only-of-type {\n",
       "        vertical-align: middle;\n",
       "    }\n",
       "\n",
       "    .dataframe tbody tr th {\n",
       "        vertical-align: top;\n",
       "    }\n",
       "\n",
       "    .dataframe thead th {\n",
       "        text-align: right;\n",
       "    }\n",
       "</style>\n",
       "<table border=\"1\" class=\"dataframe\">\n",
       "  <thead>\n",
       "    <tr style=\"text-align: right;\">\n",
       "      <th></th>\n",
       "      <th>lr</th>\n",
       "    </tr>\n",
       "  </thead>\n",
       "  <tbody>\n",
       "    <tr>\n",
       "      <th>model</th>\n",
       "      <td>lr</td>\n",
       "    </tr>\n",
       "    <tr>\n",
       "      <th>accuracy</th>\n",
       "      <td>0.73714</td>\n",
       "    </tr>\n",
       "    <tr>\n",
       "      <th>specificity</th>\n",
       "      <td>0.735661</td>\n",
       "    </tr>\n",
       "    <tr>\n",
       "      <th>recall</th>\n",
       "      <td>0.763158</td>\n",
       "    </tr>\n",
       "    <tr>\n",
       "      <th>precision</th>\n",
       "      <td>0.141005</td>\n",
       "    </tr>\n",
       "    <tr>\n",
       "      <th>f1_score</th>\n",
       "      <td>0.23803</td>\n",
       "    </tr>\n",
       "    <tr>\n",
       "      <th>AUC_CV</th>\n",
       "      <td>0.833047</td>\n",
       "    </tr>\n",
       "    <tr>\n",
       "      <th>AUC_train</th>\n",
       "      <td>0.844657</td>\n",
       "    </tr>\n",
       "    <tr>\n",
       "      <th>AUC_test</th>\n",
       "      <td>0.817988</td>\n",
       "    </tr>\n",
       "    <tr>\n",
       "      <th>best params</th>\n",
       "      <td>{}</td>\n",
       "    </tr>\n",
       "  </tbody>\n",
       "</table>\n",
       "</div>"
      ],
      "text/plain": [
       "                   lr\n",
       "model        lr      \n",
       "accuracy     0.73714 \n",
       "specificity  0.735661\n",
       "recall       0.763158\n",
       "precision    0.141005\n",
       "f1_score     0.23803 \n",
       "AUC_CV       0.833047\n",
       "AUC_train    0.844657\n",
       "AUC_test     0.817988\n",
       "best params  {}      "
      ]
     },
     "execution_count": 150,
     "metadata": {},
     "output_type": "execute_result"
    }
   ],
   "source": [
    "get_model('lr', 5, pipe_params={})"
   ]
  },
  {
   "cell_type": "markdown",
   "id": "52b0f39e",
   "metadata": {},
   "source": [
    "### Logistic Regression"
   ]
  },
  {
   "cell_type": "code",
   "execution_count": 154,
   "id": "748e86b3",
   "metadata": {},
   "outputs": [
    {
     "name": "stdout",
     "output_type": "stream",
     "text": [
      "Fitting 5 folds for each of 90 candidates, totalling 450 fits\n"
     ]
    },
    {
     "name": "stderr",
     "output_type": "stream",
     "text": [
      "/Users/benjaminpoh/opt/anaconda3/envs/dsi24/lib/python3.8/site-packages/sklearn/linear_model/_logistic.py:763: ConvergenceWarning: lbfgs failed to converge (status=1):\n",
      "STOP: TOTAL NO. of ITERATIONS REACHED LIMIT.\n",
      "\n",
      "Increase the number of iterations (max_iter) or scale the data as shown in:\n",
      "    https://scikit-learn.org/stable/modules/preprocessing.html\n",
      "Please also refer to the documentation for alternative solver options:\n",
      "    https://scikit-learn.org/stable/modules/linear_model.html#logistic-regression\n",
      "  n_iter_i = _check_optimize_result(\n",
      "/Users/benjaminpoh/opt/anaconda3/envs/dsi24/lib/python3.8/site-packages/sklearn/linear_model/_logistic.py:763: ConvergenceWarning: lbfgs failed to converge (status=1):\n",
      "STOP: TOTAL NO. of ITERATIONS REACHED LIMIT.\n",
      "\n",
      "Increase the number of iterations (max_iter) or scale the data as shown in:\n",
      "    https://scikit-learn.org/stable/modules/preprocessing.html\n",
      "Please also refer to the documentation for alternative solver options:\n",
      "    https://scikit-learn.org/stable/modules/linear_model.html#logistic-regression\n",
      "  n_iter_i = _check_optimize_result(\n",
      "/Users/benjaminpoh/opt/anaconda3/envs/dsi24/lib/python3.8/site-packages/sklearn/linear_model/_logistic.py:763: ConvergenceWarning: lbfgs failed to converge (status=1):\n",
      "STOP: TOTAL NO. of ITERATIONS REACHED LIMIT.\n",
      "\n",
      "Increase the number of iterations (max_iter) or scale the data as shown in:\n",
      "    https://scikit-learn.org/stable/modules/preprocessing.html\n",
      "Please also refer to the documentation for alternative solver options:\n",
      "    https://scikit-learn.org/stable/modules/linear_model.html#logistic-regression\n",
      "  n_iter_i = _check_optimize_result(\n",
      "/Users/benjaminpoh/opt/anaconda3/envs/dsi24/lib/python3.8/site-packages/sklearn/linear_model/_logistic.py:763: ConvergenceWarning: lbfgs failed to converge (status=1):\n",
      "STOP: TOTAL NO. of ITERATIONS REACHED LIMIT.\n",
      "\n",
      "Increase the number of iterations (max_iter) or scale the data as shown in:\n",
      "    https://scikit-learn.org/stable/modules/preprocessing.html\n",
      "Please also refer to the documentation for alternative solver options:\n",
      "    https://scikit-learn.org/stable/modules/linear_model.html#logistic-regression\n",
      "  n_iter_i = _check_optimize_result(\n"
     ]
    },
    {
     "name": "stdout",
     "output_type": "stream",
     "text": [
      "CPU times: user 5.42 s, sys: 249 ms, total: 5.67 s\n",
      "Wall time: 4min 29s\n"
     ]
    },
    {
     "name": "stderr",
     "output_type": "stream",
     "text": [
      "/Users/benjaminpoh/opt/anaconda3/envs/dsi24/lib/python3.8/site-packages/sklearn/linear_model/_logistic.py:763: ConvergenceWarning: lbfgs failed to converge (status=1):\n",
      "STOP: TOTAL NO. of ITERATIONS REACHED LIMIT.\n",
      "\n",
      "Increase the number of iterations (max_iter) or scale the data as shown in:\n",
      "    https://scikit-learn.org/stable/modules/preprocessing.html\n",
      "Please also refer to the documentation for alternative solver options:\n",
      "    https://scikit-learn.org/stable/modules/linear_model.html#logistic-regression\n",
      "  n_iter_i = _check_optimize_result(\n"
     ]
    },
    {
     "data": {
      "text/html": [
       "<div>\n",
       "<style scoped>\n",
       "    .dataframe tbody tr th:only-of-type {\n",
       "        vertical-align: middle;\n",
       "    }\n",
       "\n",
       "    .dataframe tbody tr th {\n",
       "        vertical-align: top;\n",
       "    }\n",
       "\n",
       "    .dataframe thead th {\n",
       "        text-align: right;\n",
       "    }\n",
       "</style>\n",
       "<table border=\"1\" class=\"dataframe\">\n",
       "  <thead>\n",
       "    <tr style=\"text-align: right;\">\n",
       "      <th></th>\n",
       "      <th>lr</th>\n",
       "    </tr>\n",
       "  </thead>\n",
       "  <tbody>\n",
       "    <tr>\n",
       "      <th>model</th>\n",
       "      <td>lr</td>\n",
       "    </tr>\n",
       "    <tr>\n",
       "      <th>accuracy</th>\n",
       "      <td>0.73714</td>\n",
       "    </tr>\n",
       "    <tr>\n",
       "      <th>specificity</th>\n",
       "      <td>0.735661</td>\n",
       "    </tr>\n",
       "    <tr>\n",
       "      <th>recall</th>\n",
       "      <td>0.763158</td>\n",
       "    </tr>\n",
       "    <tr>\n",
       "      <th>precision</th>\n",
       "      <td>0.141005</td>\n",
       "    </tr>\n",
       "    <tr>\n",
       "      <th>f1_score</th>\n",
       "      <td>0.23803</td>\n",
       "    </tr>\n",
       "    <tr>\n",
       "      <th>AUC_CV</th>\n",
       "      <td>0.833047</td>\n",
       "    </tr>\n",
       "    <tr>\n",
       "      <th>AUC_train</th>\n",
       "      <td>0.844653</td>\n",
       "    </tr>\n",
       "    <tr>\n",
       "      <th>AUC_test</th>\n",
       "      <td>0.817984</td>\n",
       "    </tr>\n",
       "    <tr>\n",
       "      <th>best params</th>\n",
       "      <td>{'lr__C': 1.023292992280754, 'lr__max_iter': 1000, 'lr__solver': 'saga'}</td>\n",
       "    </tr>\n",
       "  </tbody>\n",
       "</table>\n",
       "</div>"
      ],
      "text/plain": [
       "                                                                                   lr\n",
       "model        lr                                                                      \n",
       "accuracy     0.73714                                                                 \n",
       "specificity  0.735661                                                                \n",
       "recall       0.763158                                                                \n",
       "precision    0.141005                                                                \n",
       "f1_score     0.23803                                                                 \n",
       "AUC_CV       0.833047                                                                \n",
       "AUC_train    0.844653                                                                \n",
       "AUC_test     0.817984                                                                \n",
       "best params  {'lr__C': 1.023292992280754, 'lr__max_iter': 1000, 'lr__solver': 'saga'}"
      ]
     },
     "execution_count": 154,
     "metadata": {},
     "output_type": "execute_result"
    }
   ],
   "source": [
    "%%time\n",
    "\n",
    "lr_results = get_model('lr', 5, pipe_params={\n",
    "    'lr__C' : np.logspace(0.01, 1, 10),\n",
    "    'lr__solver': ['sag','saga', 'liblinear'],    \n",
    "    'lr__max_iter': [1000, 5000, 10000]\n",
    "})\n",
    "\n",
    "lr_results"
   ]
  },
  {
   "cell_type": "markdown",
   "id": "be5aec85",
   "metadata": {},
   "source": [
    "### Random Forest"
   ]
  },
  {
   "cell_type": "code",
   "execution_count": 151,
   "id": "d790f072",
   "metadata": {},
   "outputs": [
    {
     "name": "stdout",
     "output_type": "stream",
     "text": [
      "Fitting 5 folds for each of 18 candidates, totalling 90 fits\n",
      "CPU times: user 8.7 s, sys: 101 ms, total: 8.8 s\n",
      "Wall time: 25.2 s\n"
     ]
    },
    {
     "data": {
      "text/html": [
       "<div>\n",
       "<style scoped>\n",
       "    .dataframe tbody tr th:only-of-type {\n",
       "        vertical-align: middle;\n",
       "    }\n",
       "\n",
       "    .dataframe tbody tr th {\n",
       "        vertical-align: top;\n",
       "    }\n",
       "\n",
       "    .dataframe thead th {\n",
       "        text-align: right;\n",
       "    }\n",
       "</style>\n",
       "<table border=\"1\" class=\"dataframe\">\n",
       "  <thead>\n",
       "    <tr style=\"text-align: right;\">\n",
       "      <th></th>\n",
       "      <th>rf</th>\n",
       "    </tr>\n",
       "  </thead>\n",
       "  <tbody>\n",
       "    <tr>\n",
       "      <th>model</th>\n",
       "      <td>rf</td>\n",
       "    </tr>\n",
       "    <tr>\n",
       "      <th>accuracy</th>\n",
       "      <td>0.880604</td>\n",
       "    </tr>\n",
       "    <tr>\n",
       "      <th>specificity</th>\n",
       "      <td>0.906733</td>\n",
       "    </tr>\n",
       "    <tr>\n",
       "      <th>recall</th>\n",
       "      <td>0.421053</td>\n",
       "    </tr>\n",
       "    <tr>\n",
       "      <th>precision</th>\n",
       "      <td>0.204255</td>\n",
       "    </tr>\n",
       "    <tr>\n",
       "      <th>f1_score</th>\n",
       "      <td>0.275072</td>\n",
       "    </tr>\n",
       "    <tr>\n",
       "      <th>AUC_CV</th>\n",
       "      <td>0.756269</td>\n",
       "    </tr>\n",
       "    <tr>\n",
       "      <th>AUC_train</th>\n",
       "      <td>0.926258</td>\n",
       "    </tr>\n",
       "    <tr>\n",
       "      <th>AUC_test</th>\n",
       "      <td>0.824266</td>\n",
       "    </tr>\n",
       "    <tr>\n",
       "      <th>best params</th>\n",
       "      <td>{'rf__min_samples_leaf': 10, 'rf__min_samples_split': 3, 'rf__n_estimators': 100}</td>\n",
       "    </tr>\n",
       "  </tbody>\n",
       "</table>\n",
       "</div>"
      ],
      "text/plain": [
       "                                                                                            rf\n",
       "model        rf                                                                               \n",
       "accuracy     0.880604                                                                         \n",
       "specificity  0.906733                                                                         \n",
       "recall       0.421053                                                                         \n",
       "precision    0.204255                                                                         \n",
       "f1_score     0.275072                                                                         \n",
       "AUC_CV       0.756269                                                                         \n",
       "AUC_train    0.926258                                                                         \n",
       "AUC_test     0.824266                                                                         \n",
       "best params  {'rf__min_samples_leaf': 10, 'rf__min_samples_split': 3, 'rf__n_estimators': 100}"
      ]
     },
     "execution_count": 151,
     "metadata": {},
     "output_type": "execute_result"
    }
   ],
   "source": [
    "%%time\n",
    "\n",
    "rf_results = get_model('rf', 5, pipe_params={\n",
    "    'rf__n_estimators': [100, 150],\n",
    "    'rf__min_samples_split': [2, 3, 5],\n",
    "    'rf__min_samples_leaf': [2, 5, 10]\n",
    "})\n",
    "\n",
    "rf_results"
   ]
  },
  {
   "cell_type": "markdown",
   "id": "c0acb413",
   "metadata": {},
   "source": [
    "### K Nearest Neighbors"
   ]
  },
  {
   "cell_type": "code",
   "execution_count": 153,
   "id": "348435b7",
   "metadata": {},
   "outputs": [
    {
     "name": "stdout",
     "output_type": "stream",
     "text": [
      "Fitting 5 folds for each of 24 candidates, totalling 120 fits\n",
      "CPU times: user 8.94 s, sys: 1.36 s, total: 10.3 s\n",
      "Wall time: 16.3 s\n"
     ]
    },
    {
     "data": {
      "text/html": [
       "<div>\n",
       "<style scoped>\n",
       "    .dataframe tbody tr th:only-of-type {\n",
       "        vertical-align: middle;\n",
       "    }\n",
       "\n",
       "    .dataframe tbody tr th {\n",
       "        vertical-align: top;\n",
       "    }\n",
       "\n",
       "    .dataframe thead th {\n",
       "        text-align: right;\n",
       "    }\n",
       "</style>\n",
       "<table border=\"1\" class=\"dataframe\">\n",
       "  <thead>\n",
       "    <tr style=\"text-align: right;\">\n",
       "      <th></th>\n",
       "      <th>knn</th>\n",
       "    </tr>\n",
       "  </thead>\n",
       "  <tbody>\n",
       "    <tr>\n",
       "      <th>model</th>\n",
       "      <td>knn</td>\n",
       "    </tr>\n",
       "    <tr>\n",
       "      <th>accuracy</th>\n",
       "      <td>0.746579</td>\n",
       "    </tr>\n",
       "    <tr>\n",
       "      <th>specificity</th>\n",
       "      <td>0.74813</td>\n",
       "    </tr>\n",
       "    <tr>\n",
       "      <th>recall</th>\n",
       "      <td>0.719298</td>\n",
       "    </tr>\n",
       "    <tr>\n",
       "      <th>precision</th>\n",
       "      <td>0.139693</td>\n",
       "    </tr>\n",
       "    <tr>\n",
       "      <th>f1_score</th>\n",
       "      <td>0.233951</td>\n",
       "    </tr>\n",
       "    <tr>\n",
       "      <th>AUC_CV</th>\n",
       "      <td>0.729757</td>\n",
       "    </tr>\n",
       "    <tr>\n",
       "      <th>AUC_train</th>\n",
       "      <td>0.904566</td>\n",
       "    </tr>\n",
       "    <tr>\n",
       "      <th>AUC_test</th>\n",
       "      <td>0.784709</td>\n",
       "    </tr>\n",
       "    <tr>\n",
       "      <th>best params</th>\n",
       "      <td>{'knn__leaf_size': 10, 'knn__n_neighbors': 50, 'knn__p': 1}</td>\n",
       "    </tr>\n",
       "  </tbody>\n",
       "</table>\n",
       "</div>"
      ],
      "text/plain": [
       "                                                                     knn\n",
       "model        knn                                                        \n",
       "accuracy     0.746579                                                   \n",
       "specificity  0.74813                                                    \n",
       "recall       0.719298                                                   \n",
       "precision    0.139693                                                   \n",
       "f1_score     0.233951                                                   \n",
       "AUC_CV       0.729757                                                   \n",
       "AUC_train    0.904566                                                   \n",
       "AUC_test     0.784709                                                   \n",
       "best params  {'knn__leaf_size': 10, 'knn__n_neighbors': 50, 'knn__p': 1}"
      ]
     },
     "execution_count": 153,
     "metadata": {},
     "output_type": "execute_result"
    }
   ],
   "source": [
    "%%time\n",
    "\n",
    "knn_results = get_model('knn', 5, pipe_params={\n",
    "    'knn__leaf_size': [10, 20, 30],\n",
    "    'knn__n_neighbors': [10, 25, 50, 75],\n",
    "    'knn__p': [1, 2]\n",
    "})\n",
    "\n",
    "knn_results"
   ]
  },
  {
   "cell_type": "markdown",
   "id": "81d28a56",
   "metadata": {},
   "source": [
    "### GradientBoost"
   ]
  },
  {
   "cell_type": "code",
   "execution_count": 171,
   "id": "49935e5b",
   "metadata": {},
   "outputs": [
    {
     "name": "stdout",
     "output_type": "stream",
     "text": [
      "Fitting 5 folds for each of 243 candidates, totalling 1215 fits\n",
      "CPU times: user 18.9 s, sys: 546 ms, total: 19.5 s\n",
      "Wall time: 16min 52s\n"
     ]
    },
    {
     "data": {
      "text/html": [
       "<div>\n",
       "<style scoped>\n",
       "    .dataframe tbody tr th:only-of-type {\n",
       "        vertical-align: middle;\n",
       "    }\n",
       "\n",
       "    .dataframe tbody tr th {\n",
       "        vertical-align: top;\n",
       "    }\n",
       "\n",
       "    .dataframe thead th {\n",
       "        text-align: right;\n",
       "    }\n",
       "</style>\n",
       "<table border=\"1\" class=\"dataframe\">\n",
       "  <thead>\n",
       "    <tr style=\"text-align: right;\">\n",
       "      <th></th>\n",
       "      <th>gb</th>\n",
       "    </tr>\n",
       "  </thead>\n",
       "  <tbody>\n",
       "    <tr>\n",
       "      <th>model</th>\n",
       "      <td>gb</td>\n",
       "    </tr>\n",
       "    <tr>\n",
       "      <th>accuracy</th>\n",
       "      <td>0.90656</td>\n",
       "    </tr>\n",
       "    <tr>\n",
       "      <th>specificity</th>\n",
       "      <td>0.935162</td>\n",
       "    </tr>\n",
       "    <tr>\n",
       "      <th>recall</th>\n",
       "      <td>0.403509</td>\n",
       "    </tr>\n",
       "    <tr>\n",
       "      <th>precision</th>\n",
       "      <td>0.261364</td>\n",
       "    </tr>\n",
       "    <tr>\n",
       "      <th>f1_score</th>\n",
       "      <td>0.317241</td>\n",
       "    </tr>\n",
       "    <tr>\n",
       "      <th>AUC_CV</th>\n",
       "      <td>0.837507</td>\n",
       "    </tr>\n",
       "    <tr>\n",
       "      <th>AUC_train</th>\n",
       "      <td>0.925149</td>\n",
       "    </tr>\n",
       "    <tr>\n",
       "      <th>AUC_test</th>\n",
       "      <td>0.837102</td>\n",
       "    </tr>\n",
       "    <tr>\n",
       "      <th>best params</th>\n",
       "      <td>{'gb__learning_rate': 0.1, 'gb__max_depth': 5, 'gb__min_samples_leaf': 1, 'gb__min_samples_split': 2, 'gb__n_estimators': 125}</td>\n",
       "    </tr>\n",
       "  </tbody>\n",
       "</table>\n",
       "</div>"
      ],
      "text/plain": [
       "                                                                                                                                         gb\n",
       "model        gb                                                                                                                            \n",
       "accuracy     0.90656                                                                                                                       \n",
       "specificity  0.935162                                                                                                                      \n",
       "recall       0.403509                                                                                                                      \n",
       "precision    0.261364                                                                                                                      \n",
       "f1_score     0.317241                                                                                                                      \n",
       "AUC_CV       0.837507                                                                                                                      \n",
       "AUC_train    0.925149                                                                                                                      \n",
       "AUC_test     0.837102                                                                                                                      \n",
       "best params  {'gb__learning_rate': 0.1, 'gb__max_depth': 5, 'gb__min_samples_leaf': 1, 'gb__min_samples_split': 2, 'gb__n_estimators': 125}"
      ]
     },
     "execution_count": 171,
     "metadata": {},
     "output_type": "execute_result"
    }
   ],
   "source": [
    "%%time\n",
    "\n",
    "gb_results = get_model('gb', 5, pipe_params={\n",
    "    'gb__max_depth': [2,5,8],\n",
    "    'gb__n_estimators': [100, 125, 150],\n",
    "    'gb__learning_rate': [.05, .1, .15],\n",
    "    'gb__min_samples_leaf':[1,2,3],\n",
    "    'gb__min_samples_split':[2,3,5],\n",
    "})\n",
    "\n",
    "gb_results"
   ]
  },
  {
   "cell_type": "markdown",
   "id": "ac0a3fc6",
   "metadata": {},
   "source": [
    "### AdaBoost"
   ]
  },
  {
   "cell_type": "code",
   "execution_count": null,
   "id": "04d1bd1b",
   "metadata": {},
   "outputs": [],
   "source": [
    "# %%time\n",
    "\n",
    "# ada_results = get_model('ada', 5, pipe_params={\n",
    "#     'sm__k_neighbors': [20, 50, 80], \n",
    "#     'ada__n_estimators': [30, 50, 80],\n",
    "#     'ada__learning_rate': [0.1, 0.3, 0.7, 1],\n",
    "#     'ada__base_estimator__max_depth': [1, 2] \n",
    "# })\n",
    "\n",
    "# ada_results"
   ]
  },
  {
   "cell_type": "markdown",
   "id": "6a0d735e",
   "metadata": {},
   "source": [
    "### XGBoost"
   ]
  },
  {
   "cell_type": "code",
   "execution_count": null,
   "id": "2f5a0730",
   "metadata": {},
   "outputs": [],
   "source": [
    "# xgb_results = get_model('xgb', 5, pipe_params={\n",
    "#     'xgb__eval_metric' : ['auc'],\n",
    "#     'xgb__use_label_encoder' : [False],\n",
    "#     'xgb__subsample' : [1], \n",
    "#     'xgb__colsample_bytree' : [0.5, 0.75, 1],  \n",
    "#     'xgb__learning_rate' : [0.1, 0.17], \n",
    "#     'xgb__min_child_weight': [1, 3], \n",
    "#     'xgb__max_depth' : [3, 5],  \n",
    "#     'xgb__n_estimators' : [100, 300, 500], \n",
    "#     'xgb__reg_alpha' : [1, 5, 10], \n",
    "#     'xgb__reg_lambda' : [10, 35, 50], \n",
    "#     'xgb__gamma' : [0,0.05, 0.1], \n",
    "#     'xgb__objective' : ['binary:logistic']\n",
    "# })\n",
    "\n",
    "# xgb_results"
   ]
  },
  {
   "cell_type": "markdown",
   "id": "371aca04",
   "metadata": {},
   "source": [
    "## Summary"
   ]
  },
  {
   "cell_type": "code",
   "execution_count": 172,
   "id": "4d7bd898",
   "metadata": {},
   "outputs": [
    {
     "data": {
      "text/html": [
       "<div>\n",
       "<style scoped>\n",
       "    .dataframe tbody tr th:only-of-type {\n",
       "        vertical-align: middle;\n",
       "    }\n",
       "\n",
       "    .dataframe tbody tr th {\n",
       "        vertical-align: top;\n",
       "    }\n",
       "\n",
       "    .dataframe thead th {\n",
       "        text-align: right;\n",
       "    }\n",
       "</style>\n",
       "<table border=\"1\" class=\"dataframe\">\n",
       "  <thead>\n",
       "    <tr style=\"text-align: right;\">\n",
       "      <th></th>\n",
       "      <th>accuracy</th>\n",
       "      <th>specificity</th>\n",
       "      <th>recall</th>\n",
       "      <th>precision</th>\n",
       "      <th>f1_score</th>\n",
       "      <th>AUC_CV</th>\n",
       "      <th>AUC_train</th>\n",
       "      <th>AUC_test</th>\n",
       "      <th>best params</th>\n",
       "    </tr>\n",
       "  </thead>\n",
       "  <tbody>\n",
       "    <tr>\n",
       "      <th>gb</th>\n",
       "      <td>0.90656</td>\n",
       "      <td>0.935162</td>\n",
       "      <td>0.403509</td>\n",
       "      <td>0.261364</td>\n",
       "      <td>0.317241</td>\n",
       "      <td>0.837507</td>\n",
       "      <td>0.925149</td>\n",
       "      <td>0.837102</td>\n",
       "      <td>{'gb__learning_rate': 0.1, 'gb__max_depth': 5, 'gb__min_samples_leaf': 1, 'gb__min_samples_split': 2, 'gb__n_estimators': 125}</td>\n",
       "    </tr>\n",
       "    <tr>\n",
       "      <th>rf</th>\n",
       "      <td>0.880604</td>\n",
       "      <td>0.906733</td>\n",
       "      <td>0.421053</td>\n",
       "      <td>0.204255</td>\n",
       "      <td>0.275072</td>\n",
       "      <td>0.756269</td>\n",
       "      <td>0.926258</td>\n",
       "      <td>0.824266</td>\n",
       "      <td>{'rf__min_samples_leaf': 10, 'rf__min_samples_split': 3, 'rf__n_estimators': 100}</td>\n",
       "    </tr>\n",
       "    <tr>\n",
       "      <th>lr</th>\n",
       "      <td>0.73714</td>\n",
       "      <td>0.735661</td>\n",
       "      <td>0.763158</td>\n",
       "      <td>0.141005</td>\n",
       "      <td>0.23803</td>\n",
       "      <td>0.833047</td>\n",
       "      <td>0.844653</td>\n",
       "      <td>0.817984</td>\n",
       "      <td>{'lr__C': 1.023292992280754, 'lr__max_iter': 1000, 'lr__solver': 'saga'}</td>\n",
       "    </tr>\n",
       "    <tr>\n",
       "      <th>knn</th>\n",
       "      <td>0.746579</td>\n",
       "      <td>0.74813</td>\n",
       "      <td>0.719298</td>\n",
       "      <td>0.139693</td>\n",
       "      <td>0.233951</td>\n",
       "      <td>0.729757</td>\n",
       "      <td>0.904566</td>\n",
       "      <td>0.784709</td>\n",
       "      <td>{'knn__leaf_size': 10, 'knn__n_neighbors': 50, 'knn__p': 1}</td>\n",
       "    </tr>\n",
       "  </tbody>\n",
       "</table>\n",
       "</div>"
      ],
      "text/plain": [
       "     accuracy specificity    recall precision  f1_score    AUC_CV AUC_train  \\\n",
       "gb   0.90656   0.935162    0.403509  0.261364  0.317241  0.837507  0.925149   \n",
       "rf   0.880604  0.906733    0.421053  0.204255  0.275072  0.756269  0.926258   \n",
       "lr   0.73714   0.735661    0.763158  0.141005  0.23803   0.833047  0.844653   \n",
       "knn  0.746579  0.74813     0.719298  0.139693  0.233951  0.729757  0.904566   \n",
       "\n",
       "     AUC_test  \\\n",
       "gb   0.837102   \n",
       "rf   0.824266   \n",
       "lr   0.817984   \n",
       "knn  0.784709   \n",
       "\n",
       "                                                                                                                        best params  \n",
       "gb   {'gb__learning_rate': 0.1, 'gb__max_depth': 5, 'gb__min_samples_leaf': 1, 'gb__min_samples_split': 2, 'gb__n_estimators': 125}  \n",
       "rf   {'rf__min_samples_leaf': 10, 'rf__min_samples_split': 3, 'rf__n_estimators': 100}                                               \n",
       "lr   {'lr__C': 1.023292992280754, 'lr__max_iter': 1000, 'lr__solver': 'saga'}                                                        \n",
       "knn  {'knn__leaf_size': 10, 'knn__n_neighbors': 50, 'knn__p': 1}                                                                     "
      ]
     },
     "execution_count": 172,
     "metadata": {},
     "output_type": "execute_result"
    }
   ],
   "source": [
    "overall_df = pd.concat([lr_results, rf_results, knn_results, gb_results], axis=1).T\n",
    "overall_df.sort_values(ascending=False, by='AUC_test').drop(columns=['model'])"
   ]
  },
  {
   "cell_type": "markdown",
   "id": "948d98b8",
   "metadata": {},
   "source": [
    "### ROC-AUC curve"
   ]
  },
  {
   "cell_type": "markdown",
   "id": "b00fb961",
   "metadata": {},
   "source": [
    "### Confusion Matrix"
   ]
  },
  {
   "cell_type": "markdown",
   "id": "e05029af",
   "metadata": {},
   "source": [
    "### Prediction vs True"
   ]
  },
  {
   "cell_type": "markdown",
   "id": "01f021cb",
   "metadata": {},
   "source": [
    "### Coefficient Analysis"
   ]
  },
  {
   "cell_type": "markdown",
   "id": "037b1696",
   "metadata": {},
   "source": [
    "## Kaggle Model"
   ]
  },
  {
   "cell_type": "code",
   "execution_count": null,
   "id": "13665e45",
   "metadata": {},
   "outputs": [],
   "source": []
  },
  {
   "cell_type": "code",
   "execution_count": 163,
   "id": "d08d7185",
   "metadata": {},
   "outputs": [],
   "source": [
    "#Train/Test split on full dataset\n",
    "\n",
    "X_full_train = train_weather.drop(columns=['WnvPresent'])\n",
    "X_full_test = test_weather.drop(columns=['Id'])\n",
    "y_full_train = train_weather['WnvPresent']\n"
   ]
  },
  {
   "cell_type": "code",
   "execution_count": 15,
   "id": "0165b280",
   "metadata": {},
   "outputs": [
    {
     "name": "stdout",
     "output_type": "stream",
     "text": [
      "Fitting 5 folds for each of 60 candidates, totalling 300 fits\n"
     ]
    },
    {
     "name": "stderr",
     "output_type": "stream",
     "text": [
      "/Users/benjaminpoh/opt/anaconda3/envs/dsi24/lib/python3.8/site-packages/sklearn/linear_model/_logistic.py:763: ConvergenceWarning: lbfgs failed to converge (status=1):\n",
      "STOP: TOTAL NO. of ITERATIONS REACHED LIMIT.\n",
      "\n",
      "Increase the number of iterations (max_iter) or scale the data as shown in:\n",
      "    https://scikit-learn.org/stable/modules/preprocessing.html\n",
      "Please also refer to the documentation for alternative solver options:\n",
      "    https://scikit-learn.org/stable/modules/linear_model.html#logistic-regression\n",
      "  n_iter_i = _check_optimize_result(\n",
      "/Users/benjaminpoh/opt/anaconda3/envs/dsi24/lib/python3.8/site-packages/sklearn/linear_model/_logistic.py:763: ConvergenceWarning: lbfgs failed to converge (status=1):\n",
      "STOP: TOTAL NO. of ITERATIONS REACHED LIMIT.\n",
      "\n",
      "Increase the number of iterations (max_iter) or scale the data as shown in:\n",
      "    https://scikit-learn.org/stable/modules/preprocessing.html\n",
      "Please also refer to the documentation for alternative solver options:\n",
      "    https://scikit-learn.org/stable/modules/linear_model.html#logistic-regression\n",
      "  n_iter_i = _check_optimize_result(\n",
      "/Users/benjaminpoh/opt/anaconda3/envs/dsi24/lib/python3.8/site-packages/sklearn/linear_model/_logistic.py:763: ConvergenceWarning: lbfgs failed to converge (status=1):\n",
      "STOP: TOTAL NO. of ITERATIONS REACHED LIMIT.\n",
      "\n",
      "Increase the number of iterations (max_iter) or scale the data as shown in:\n",
      "    https://scikit-learn.org/stable/modules/preprocessing.html\n",
      "Please also refer to the documentation for alternative solver options:\n",
      "    https://scikit-learn.org/stable/modules/linear_model.html#logistic-regression\n",
      "  n_iter_i = _check_optimize_result(\n"
     ]
    },
    {
     "name": "stdout",
     "output_type": "stream",
     "text": [
      "model lr\n",
      "AUC_CV 0.7573432061608809\n",
      "AUC_train 0.8393473819573356\n",
      "best_params {'lr__C': 1.023292992280754, 'lr__max_iter': 1000, 'lr__solver': 'saga'}\n",
      "0.7575306848641691\n",
      "CPU times: user 7.16 s, sys: 208 ms, total: 7.37 s\n",
      "Wall time: 3min 57s\n"
     ]
    },
    {
     "name": "stderr",
     "output_type": "stream",
     "text": [
      "/Users/benjaminpoh/opt/anaconda3/envs/dsi24/lib/python3.8/site-packages/sklearn/linear_model/_logistic.py:763: ConvergenceWarning: lbfgs failed to converge (status=1):\n",
      "STOP: TOTAL NO. of ITERATIONS REACHED LIMIT.\n",
      "\n",
      "Increase the number of iterations (max_iter) or scale the data as shown in:\n",
      "    https://scikit-learn.org/stable/modules/preprocessing.html\n",
      "Please also refer to the documentation for alternative solver options:\n",
      "    https://scikit-learn.org/stable/modules/linear_model.html#logistic-regression\n",
      "  n_iter_i = _check_optimize_result(\n",
      "/Users/benjaminpoh/opt/anaconda3/envs/dsi24/lib/python3.8/site-packages/sklearn/linear_model/_logistic.py:763: ConvergenceWarning: lbfgs failed to converge (status=1):\n",
      "STOP: TOTAL NO. of ITERATIONS REACHED LIMIT.\n",
      "\n",
      "Increase the number of iterations (max_iter) or scale the data as shown in:\n",
      "    https://scikit-learn.org/stable/modules/preprocessing.html\n",
      "Please also refer to the documentation for alternative solver options:\n",
      "    https://scikit-learn.org/stable/modules/linear_model.html#logistic-regression\n",
      "  n_iter_i = _check_optimize_result(\n"
     ]
    }
   ],
   "source": [
    "%%time\n",
    "\n",
    "ss = StandardScaler()\n",
    "X_full_train_sc = ss.fit_transform(X_full_train)\n",
    "X_full_test_sc = ss.transform(X_full_test)\n",
    "\n",
    "#Pipeline\n",
    "pipe = imbpipeline([\n",
    "                ('sm', SMOTE(random_state=42)), \n",
    "                ('lr', LogisticRegression()),\n",
    "            ])\n",
    "\n",
    "pipe_params = {\n",
    "    'lr__C' : [1.023292992280754],\n",
    "    'lr__solver' : ['saga'],\n",
    "    'lr__max_iter' : [1000]\n",
    "}\n",
    "    \n",
    "gridsearch = GridSearchCV(pipe, pipe_params, cv=5, scoring='roc_auc', verbose=1, n_jobs=-1)\n",
    "\n",
    "#Fit model\n",
    "gridsearch.fit(X_full_train_sc, y_full_train)\n",
    "    \n",
    "preds = gridsearch.predict_proba(X_full_test_sc)\n",
    "\n",
    "\n",
    "model_probs_train = gridsearch.predict_proba(X_full_train_sc)[:, 1]\n",
    "model_probs_test = gridsearch.predict_proba(X_full_test_sc)[:, 1]\n",
    "roc_auc = cross_val_score(pipe, X_full_train_sc, y_full_train, scoring='roc_auc', cv=5)\n",
    "    \n",
    "print('model', 'lr')\n",
    "print('AUC_CV', roc_auc.mean())\n",
    "print('AUC_train', roc_auc_score(y_full_train, model_probs_train))\n",
    "print('best_params', gridsearch.best_params_)\n"
   ]
  },
  {
   "cell_type": "code",
   "execution_count": 284,
   "id": "7011a238",
   "metadata": {},
   "outputs": [
    {
     "name": "stdout",
     "output_type": "stream",
     "text": [
      "Fitting 5 folds for each of 2 candidates, totalling 10 fits\n",
      "model ada\n",
      "AUC_CV 0.41853426857811193\n",
      "AUC_train 0.920408157138779\n",
      "best_params {'rf__min_samples_leaf': 10, 'rf__min_samples_split': 2, 'rf__n_estimators': 150}\n",
      "0.5626193360540922\n"
     ]
    }
   ],
   "source": [
    "# pipe = imbpipeline([\n",
    "#                 ('ss', StandardScaler()),\n",
    "#                 ('sm', SMOTE(random_state=42)), \n",
    "#                 ('rf', RandomForestClassifier()),\n",
    "#             ])\n",
    "\n",
    "# pipe_params = {\n",
    "#     'rf__C': np.logspace(0.01, 1, 5),\n",
    "#     'rf__min_samples_split': [2, 3],\n",
    "#     'rf__min_samples_leaf': [2, 5, 10]\n",
    "# }\n",
    "    \n",
    "# gridsearch = GridSearchCV(pipe, pipe_params, cv=5, scoring='roc_auc', verbose=1, n_jobs=-1)\n",
    "    \n",
    "# gridsearch.fit(X_full_train, y_full_train)\n",
    "    \n",
    "# preds = gridsearch.predict_proba(X_full_test)\n",
    "\n",
    "\n",
    "# model_probs_train = gridsearch.predict_proba(X_full_train)[:, 1]\n",
    "# model_probs_test = gridsearch.predict_proba(X_full_test)[:, 1]\n",
    "# roc_auc = cross_val_score(pipe, X_full_train, y_full_train, scoring='roc_auc', cv=5)\n",
    "    \n",
    "# print( 'model', 'ada')\n",
    "# print('AUC_CV', roc_auc.mean())\n",
    "# print('AUC_train', roc_auc_score(y_full_train, model_probs_train))\n",
    "# print('best_params', gridsearch.best_params_)\n",
    "\n",
    "# print(gridsearch.best_score_)\n"
   ]
  },
  {
   "cell_type": "code",
   "execution_count": 5,
   "id": "072dd5c4",
   "metadata": {},
   "outputs": [
    {
     "name": "stdout",
     "output_type": "stream",
     "text": [
      "Fitting 5 folds for each of 243 candidates, totalling 1215 fits\n",
      "model lr\n",
      "AUC_CV 0.6213272850459075\n",
      "AUC_train 0.8328218565121257\n",
      "best_params {'gb__learning_rate': 0.05, 'gb__max_depth': 2, 'gb__min_samples_leaf': 1, 'gb__min_samples_split': 2, 'gb__n_estimators': 100}\n",
      "0.671607943391864\n"
     ]
    }
   ],
   "source": [
    "ss = StandardScaler()\n",
    "X_full_train_sc = ss.fit_transform(X_full_train)\n",
    "X_full_test_sc = ss.transform(X_full_test)\n",
    "\n",
    "pipe = imbpipeline([\n",
    "                ('sm', SMOTE(random_state=42)), \n",
    "                ('gb', GradientBoostingClassifier()),\n",
    "            ])\n",
    "\n",
    "pipe_params = {\n",
    "    'gb__max_depth': [2,5,8],\n",
    "    'gb__n_estimators': [100, 125, 150],\n",
    "    'gb__learning_rate': [.05, .1, .15],\n",
    "    'gb__min_samples_leaf':[1,2,3],\n",
    "    'gb__min_samples_split':[2,3,5],\n",
    "}\n",
    "    \n",
    "gridsearch = GridSearchCV(pipe, pipe_params, cv=5, scoring='roc_auc', verbose=1, n_jobs=-1)\n",
    "    \n",
    "gridsearch.fit(X_full_train_sc, y_full_train)\n",
    "    \n",
    "preds = gridsearch.predict_proba(X_full_test_sc)\n",
    "\n",
    "\n",
    "model_probs_train = gridsearch.predict_proba(X_full_train_sc)[:, 1]\n",
    "model_probs_test = gridsearch.predict_proba(X_full_test_sc)[:, 1]\n",
    "roc_auc = cross_val_score(pipe, X_full_train_sc, y_full_train, scoring='roc_auc', cv=5)\n",
    "    \n",
    "print('model', 'lr')\n",
    "print('AUC_CV', roc_auc.mean())\n",
    "print('AUC_train', roc_auc_score(y_full_train, model_probs_train))\n",
    "print('best_params', gridsearch.best_params_)\n",
    "\n",
    "print(gridsearch.best_score_)"
   ]
  },
  {
   "cell_type": "code",
   "execution_count": 6,
   "id": "b50b3490",
   "metadata": {},
   "outputs": [],
   "source": [
    "predict_y=pd.DataFrame(preds[:,1])\n",
    "predict_y =predict_y.rename(columns={0:'WnvPresent'})"
   ]
  },
  {
   "cell_type": "code",
   "execution_count": 8,
   "id": "8efdc288",
   "metadata": {},
   "outputs": [],
   "source": [
    "submission = pd.read_csv(r'../datasets/sampleSubmission.csv')\n",
    "submission['WnvPresent'] = predict_y['WnvPresent']"
   ]
  },
  {
   "cell_type": "code",
   "execution_count": 10,
   "id": "22c7d426",
   "metadata": {},
   "outputs": [],
   "source": [
    "submission.to_csv(r'../datasets/sampleSubmission_v12.csv', index=False)"
   ]
  },
  {
   "cell_type": "code",
   "execution_count": 21,
   "id": "b6df90f0",
   "metadata": {},
   "outputs": [
    {
     "data": {
      "text/html": [
       "<div>\n",
       "<style scoped>\n",
       "    .dataframe tbody tr th:only-of-type {\n",
       "        vertical-align: middle;\n",
       "    }\n",
       "\n",
       "    .dataframe tbody tr th {\n",
       "        vertical-align: top;\n",
       "    }\n",
       "\n",
       "    .dataframe thead th {\n",
       "        text-align: right;\n",
       "    }\n",
       "</style>\n",
       "<table border=\"1\" class=\"dataframe\">\n",
       "  <thead>\n",
       "    <tr style=\"text-align: right;\">\n",
       "      <th></th>\n",
       "      <th>Id</th>\n",
       "      <th>WnvPresent</th>\n",
       "    </tr>\n",
       "  </thead>\n",
       "  <tbody>\n",
       "    <tr>\n",
       "      <th>0</th>\n",
       "      <td>1</td>\n",
       "      <td>0.132141</td>\n",
       "    </tr>\n",
       "    <tr>\n",
       "      <th>1</th>\n",
       "      <td>2</td>\n",
       "      <td>0.051930</td>\n",
       "    </tr>\n",
       "    <tr>\n",
       "      <th>2</th>\n",
       "      <td>3</td>\n",
       "      <td>0.057630</td>\n",
       "    </tr>\n",
       "    <tr>\n",
       "      <th>3</th>\n",
       "      <td>4</td>\n",
       "      <td>0.000066</td>\n",
       "    </tr>\n",
       "    <tr>\n",
       "      <th>4</th>\n",
       "      <td>5</td>\n",
       "      <td>0.000071</td>\n",
       "    </tr>\n",
       "    <tr>\n",
       "      <th>...</th>\n",
       "      <td>...</td>\n",
       "      <td>...</td>\n",
       "    </tr>\n",
       "    <tr>\n",
       "      <th>116288</th>\n",
       "      <td>116289</td>\n",
       "      <td>0.000004</td>\n",
       "    </tr>\n",
       "    <tr>\n",
       "      <th>116289</th>\n",
       "      <td>116290</td>\n",
       "      <td>0.000004</td>\n",
       "    </tr>\n",
       "    <tr>\n",
       "      <th>116290</th>\n",
       "      <td>116291</td>\n",
       "      <td>0.000005</td>\n",
       "    </tr>\n",
       "    <tr>\n",
       "      <th>116291</th>\n",
       "      <td>116292</td>\n",
       "      <td>0.001593</td>\n",
       "    </tr>\n",
       "    <tr>\n",
       "      <th>116292</th>\n",
       "      <td>116293</td>\n",
       "      <td>0.001593</td>\n",
       "    </tr>\n",
       "  </tbody>\n",
       "</table>\n",
       "<p>116293 rows × 2 columns</p>\n",
       "</div>"
      ],
      "text/plain": [
       "            Id  WnvPresent\n",
       "0            1    0.132141\n",
       "1            2    0.051930\n",
       "2            3    0.057630\n",
       "3            4    0.000066\n",
       "4            5    0.000071\n",
       "...        ...         ...\n",
       "116288  116289    0.000004\n",
       "116289  116290    0.000004\n",
       "116290  116291    0.000005\n",
       "116291  116292    0.001593\n",
       "116292  116293    0.001593\n",
       "\n",
       "[116293 rows x 2 columns]"
      ]
     },
     "execution_count": 21,
     "metadata": {},
     "output_type": "execute_result"
    }
   ],
   "source": [
    "submission"
   ]
  }
 ],
 "metadata": {
  "kernelspec": {
   "display_name": "Python 3",
   "language": "python",
   "name": "python3"
  },
  "language_info": {
   "codemirror_mode": {
    "name": "ipython",
    "version": 3
   },
   "file_extension": ".py",
   "mimetype": "text/x-python",
   "name": "python",
   "nbconvert_exporter": "python",
   "pygments_lexer": "ipython3",
   "version": "3.8.8"
  },
  "toc": {
   "base_numbering": 1,
   "nav_menu": {},
   "number_sections": true,
   "sideBar": true,
   "skip_h1_title": false,
   "title_cell": "Table of Contents",
   "title_sidebar": "Contents",
   "toc_cell": false,
   "toc_position": {},
   "toc_section_display": true,
   "toc_window_display": true
  }
 },
 "nbformat": 4,
 "nbformat_minor": 5
}
