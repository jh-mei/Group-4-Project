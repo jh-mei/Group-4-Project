{
 "cells": [
  {
   "cell_type": "code",
   "execution_count": 2,
   "id": "cfb65cc8",
   "metadata": {},
   "outputs": [],
   "source": [
    "import pandas as pd\n",
    "import numpy as np\n",
    "import matplotlib.pyplot as plt\n",
    "import seaborn as sns\n",
    "from geopy.distance import geodesic\n",
    "\n",
    "from sklearn.preprocessing import OneHotEncoder, StandardScaler, PolynomialFeatures\n",
    "from sklearn.naive_bayes import MultinomialNB\n",
    "from sklearn.model_selection import train_test_split, cross_val_score, GridSearchCV\n",
    "\n",
    "from imblearn.over_sampling import SMOTENC, SMOTE\n",
    "from imblearn.pipeline import Pipeline as imbpipeline\n",
    "\n",
    "from sklearn.metrics import (\n",
    "    confusion_matrix, \n",
    "    plot_confusion_matrix,\n",
    "    accuracy_score,\n",
    "    plot_roc_curve,\n",
    "    roc_auc_score,\n",
    "    recall_score,\n",
    "    precision_score,\n",
    "    f1_score\n",
    ")\n",
    "\n",
    "from sklearn.ensemble import RandomForestClassifier, GradientBoostingClassifier, AdaBoostClassifier, ExtraTreesClassifier\n",
    "from sklearn.linear_model import LogisticRegression\n",
    "from sklearn.tree import DecisionTreeClassifier"
   ]
  },
  {
   "cell_type": "code",
   "execution_count": 4,
   "id": "87dbbfca",
   "metadata": {},
   "outputs": [],
   "source": [
    "train_weather = pd.read_csv(r'../datasets/train_weather.csv')\n",
    "test_weather = pd.read_csv(r'../datasets/test_weather.csv')"
   ]
  },
  {
   "cell_type": "markdown",
   "id": "28cb81d1",
   "metadata": {},
   "source": [
    "## Modelling"
   ]
  },
  {
   "cell_type": "code",
   "execution_count": 5,
   "id": "24530310",
   "metadata": {},
   "outputs": [],
   "source": [
    "X = train_weather.drop(columns='WnvPresent')\n",
    "y = train_weather['WnvPresent']\n",
    "    \n",
    "X_train, X_test, y_train, y_test = train_test_split(X, y, stratify=y, random_state=42)\n",
    "\n",
    "metrics = pd.DataFrame(index=[0])"
   ]
  },
  {
   "cell_type": "code",
   "execution_count": 6,
   "id": "2b3dce08",
   "metadata": {},
   "outputs": [],
   "source": [
    "def get_model(model, df, gridcv, pipe_params={}):\n",
    "    \n",
    "    models = {'lr': LogisticRegression(),\n",
    "              'nb': MultinomialNB(),\n",
    "              'rf': RandomForestClassifier(),\n",
    "              'et': ExtraTreesClassifier(),\n",
    "              'ada': AdaBoostClassifier(base_estimator=DecisionTreeClassifier()),\n",
    "             }\n",
    "    \n",
    "    if model == 'nb':\n",
    "            pipe = imbpipeline([\n",
    "                ('sm', SMOTE(random_state=42)), \n",
    "                (model, models[model]),\n",
    "            ])\n",
    "    else:\n",
    "            pipe = imbpipeline([\n",
    "                ('ss', StandardScaler()),\n",
    "                ('sm', SMOTE(random_state=42)), \n",
    "                (model, models[model]),\n",
    "            ])\n",
    "    \n",
    "    pipe_params = pipe_params\n",
    "    \n",
    "    gridsearch = GridSearchCV(pipe, pipe_params, cv=gridcv, scoring='roc_auc', verbose=1)\n",
    "    \n",
    "    gridsearch.fit(X_train, y_train)\n",
    "    \n",
    "    preds = gridsearch.predict(X_test)\n",
    "    tn, fp, fn, tp = confusion_matrix(y_test, preds).ravel()\n",
    "\n",
    "    model_probs_train = gridsearch.predict_proba(X_train)[:, 1]\n",
    "    model_probs_test = gridsearch.predict_proba(X_test)[:, 1]\n",
    "    roc_auc = cross_val_score(pipe, X_train, y_train, scoring='roc_auc', cv=gridcv)\n",
    "    \n",
    "    metrics['model'] = models[model]\n",
    "    metrics['accuracy'] = accuracy_score(y_test, preds)\n",
    "    metrics['specificity'] = tn / (tn+fp)\n",
    "    metrics['recall'] = recall_score(y_test, preds)\n",
    "    metrics['precision'] = precision_score(y_test, preds)\n",
    "    metrics['AUC_CV'] = roc_auc.mean()\n",
    "    metrics['AUC_train'] = roc_auc_score(y_train, model_probs_train)\n",
    "    metrics['AUC_test'] = roc_auc_score(y_test, model_probs_test)\n",
    "    metrics['f1_score'] = f1_score(y_test, preds)\n",
    "    \n",
    "    \n",
    "    \n",
    "    return metrics"
   ]
  },
  {
   "cell_type": "code",
   "execution_count": null,
   "id": "ca3ee0e3",
   "metadata": {},
   "outputs": [],
   "source": []
  },
  {
   "cell_type": "code",
   "execution_count": null,
   "id": "d766b614",
   "metadata": {},
   "outputs": [],
   "source": [
    "Baseline "
   ]
  },
  {
   "cell_type": "code",
   "execution_count": 14,
   "id": "916340f3",
   "metadata": {},
   "outputs": [
    {
     "name": "stdout",
     "output_type": "stream",
     "text": [
      "Fitting 5 folds for each of 3 candidates, totalling 15 fits\n"
     ]
    },
    {
     "data": {
      "text/html": [
       "<div>\n",
       "<style scoped>\n",
       "    .dataframe tbody tr th:only-of-type {\n",
       "        vertical-align: middle;\n",
       "    }\n",
       "\n",
       "    .dataframe tbody tr th {\n",
       "        vertical-align: top;\n",
       "    }\n",
       "\n",
       "    .dataframe thead th {\n",
       "        text-align: right;\n",
       "    }\n",
       "</style>\n",
       "<table border=\"1\" class=\"dataframe\">\n",
       "  <thead>\n",
       "    <tr style=\"text-align: right;\">\n",
       "      <th></th>\n",
       "      <th>model</th>\n",
       "      <th>accuracy</th>\n",
       "      <th>specificity</th>\n",
       "      <th>recall</th>\n",
       "      <th>precision</th>\n",
       "      <th>AUC_CV</th>\n",
       "      <th>AUC_train</th>\n",
       "      <th>AUC_test</th>\n",
       "      <th>f1_score</th>\n",
       "    </tr>\n",
       "  </thead>\n",
       "  <tbody>\n",
       "    <tr>\n",
       "      <th>0</th>\n",
       "      <td>Naive Bayes</td>\n",
       "      <td>0.682397</td>\n",
       "      <td>0.684788</td>\n",
       "      <td>0.640351</td>\n",
       "      <td>0.103546</td>\n",
       "      <td>0.737031</td>\n",
       "      <td>0.755152</td>\n",
       "      <td>0.735947</td>\n",
       "      <td>0.178266</td>\n",
       "    </tr>\n",
       "  </tbody>\n",
       "</table>\n",
       "</div>"
      ],
      "text/plain": [
       "         model  accuracy  specificity    recall  precision    AUC_CV  \\\n",
       "0  Naive Bayes  0.682397     0.684788  0.640351   0.103546  0.737031   \n",
       "\n",
       "   AUC_train  AUC_test  f1_score  \n",
       "0   0.755152  0.735947  0.178266  "
      ]
     },
     "execution_count": 14,
     "metadata": {},
     "output_type": "execute_result"
    }
   ],
   "source": [
    "get_model('lr', train_weather, 5, pipe_params={\n",
    "    'sm__k_neighbors': [3, 5, 10]\n",
    "})"
   ]
  },
  {
   "cell_type": "code",
   "execution_count": null,
   "id": "cfbb3d91",
   "metadata": {},
   "outputs": [],
   "source": []
  }
 ],
 "metadata": {
  "kernelspec": {
   "display_name": "Python 3",
   "language": "python",
   "name": "python3"
  },
  "language_info": {
   "codemirror_mode": {
    "name": "ipython",
    "version": 3
   },
   "file_extension": ".py",
   "mimetype": "text/x-python",
   "name": "python",
   "nbconvert_exporter": "python",
   "pygments_lexer": "ipython3",
   "version": "3.8.8"
  },
  "toc": {
   "base_numbering": 1,
   "nav_menu": {},
   "number_sections": true,
   "sideBar": true,
   "skip_h1_title": false,
   "title_cell": "Table of Contents",
   "title_sidebar": "Contents",
   "toc_cell": false,
   "toc_position": {},
   "toc_section_display": true,
   "toc_window_display": true
  }
 },
 "nbformat": 4,
 "nbformat_minor": 5
}
