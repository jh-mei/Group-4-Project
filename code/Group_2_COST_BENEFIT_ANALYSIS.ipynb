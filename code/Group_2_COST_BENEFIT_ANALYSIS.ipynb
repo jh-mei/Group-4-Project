{
 "cells": [
  {
   "cell_type": "markdown",
   "id": "e9af54d5",
   "metadata": {},
   "source": [
    "# Conclusion"
   ]
  },
  {
   "cell_type": "markdown",
   "id": "93831b3d",
   "metadata": {},
   "source": [
    "* We have chosen to deploy the (model) as it has achieved an ROC score of (score) and achieved the below matrix\n",
    "\n",
    "                                                (Insert Matrix)\n",
    "                             \n",
    "ROC Score tells us the probability of predicting a mosquito infected with the West Nile Virus, hence the highest score would mean the model holds the highest probability to make a right prediction.\n",
    "\n",
    "We were keen to optimize the recall score by reducing the False Negatives (Predicted WNV not present, but actually present)."
   ]
  },
  {
   "cell_type": "markdown",
   "id": "c85d1015",
   "metadata": {},
   "source": [
    "# Recommendation"
   ]
  },
  {
   "cell_type": "markdown",
   "id": "f61acb7c",
   "metadata": {},
   "source": [
    "# Cost Benefit Analysis"
   ]
  },
  {
   "cell_type": "markdown",
   "id": "b8c91729",
   "metadata": {},
   "source": [
    "### Current Spray Efforts"
   ]
  },
  {
   "cell_type": "markdown",
   "id": "11046742",
   "metadata": {},
   "source": [
    "* Referring back to our EDA on the spray data, we saw that the current rate of success in eradicating WNV in sprayed areas is 7 / 17 = 41.18%. This is quite a significant rate, considering we are not looking at a decrease in mosquito numbers but eradicating WNV as a whole from that area."
   ]
  },
  {
   "cell_type": "markdown",
   "id": "3bc86bdb",
   "metadata": {},
   "source": [
    "#### Medical Impact\n",
    "* WNV asymptomatic vs symptomatic 4:1\n",
    "* WNV can result to\n",
    "    * Mild - WNF (West Nile Fever)\n",
    "    * Severe - WNND (West Nile Neuroinvasive disease)"
   ]
  },
  {
   "cell_type": "markdown",
   "id": "a4853cb9",
   "metadata": {},
   "source": [
    "### WNV cases statistics from 2007-2014\n",
    "\n",
    "(https://idph.illinois.gov/envhealth/wnvglance07.htm)\n",
    "\n",
    "|Year|WNV Cases|WNND Cases|WNF Cases|  \n",
    "|:--|:-:|:-:|:--|  \n",
    "|2007|101|63|48|\n",
    "|2008|20|12|8|\n",
    "|2009|5|5|0|\n",
    "|2010|61|45|16|\n",
    "|2011|34|22|12|\n",
    "|2012|290|187|103|\n",
    "|2013|117|86|31|\n",
    "|2014|44|36|8|"
   ]
  },
  {
   "cell_type": "markdown",
   "id": "847c868d",
   "metadata": {},
   "source": [
    "## ==Total cost with spraying==\n",
    "\n",
    "The Chicago Department of Public Health (CDPH) conducts mosquito spraying as part of their measure to reduce the occurrence of WNV. The spraying is conducted from dusk to around midnight from ultra low volumn (ULV) sprayer trucks, using the chemical Zenivex™ E4 (City of Chicago, 2019). This is a 4% solution of etofenprox, sprayed at 4.5 - 9 ounces per minute, at a vehicle speed of 10 - 15 mph (Central Massachussettes Mosquito Control Project). Assuming each truck has an area of effect of about 3 m to each side of the truck, the overall spray area is approximately 0.6 km2 per truck.\n",
    "The cost of Zenivex E4 is about \\$80 USD per gallon ([North Dakota Department of Health, 2013](http://www.gfmosquito.com/wp-content/uploads/2013/06/2013-North-Dakota-Bid-Tabulation.pdf)). Given the current rate of spraying and assuming a total spray duration of 5 hours, the cost of pesticides for <i>each sprayer truck</i> is <b>\\\\$843.76 - \\$1687.50 USD</b>.\n",
    "Given that the total area of Chicago is 606.1 km2, it would take about 1000 trucks at the same time to cover the entire area.\n",
    "\n",
    "The Chicago Department of Public Health (CDPH) is continuing its efforts to combat against the West Nile virus, even in 2020. The insecticide used by the CDPH is the Zenivex E4. Zenivex™, is approved for use by the U.S. Environmental Protection Agency and has been widely applied to control mosquitoes in outdoor residential and recreational areas."
   ]
  },
  {
   "cell_type": "markdown",
   "id": "01b7edad",
   "metadata": {},
   "source": [
    "## ==Economic Cost without spraying in 2012==\n",
    "\n",
    "We will use 2012's data for the economic analysis given that it had the most number of cases, and it will show the most benefit from the sprays. Costs were based on this [article](https://www.ncbi.nlm.nih.gov/pmc/articles/PMC3322011/) that did a cost analysis of WNV in Sacremento County, California."
   ]
  },
  {
   "cell_type": "markdown",
   "id": "ff1fd8cb",
   "metadata": {},
   "source": [
    "### Estimated cost based on WNND cases (187 patients)\n",
    "\n",
    "#### <span style=\"color:red\">Cost due to Inpatient and Outpatient expenses</span>\n",
    "\n",
    "|Item|Cost per Case|Total Cost|\n",
    "|-:-|-:-|-:-|\n",
    "|Inpatient Treatment|\\\\$33,143|\\\\$6,197,741|\n",
    "|Outpatient Treatment|\\\\$333|\\\\$62,271|\n",
    "|Physician Visits|\\\\$450|\\\\$84,150|\n",
    "|Physical Therapy|\\\\$909|\\\\$169,983|\n",
    "|Occupational Therapy|\\\\$4,037|\\\\$754,919|\n",
    "|Speech Therapy|\\\\$588|\\\\$109,956|\n",
    "\n",
    "#### <span style=\"color:red\">Cost due to productivity lost</span>\n",
    "\n",
    "|Productivity Loss|Value of work day missed|No. of work day missed|Value of non-workday missed|No. of non-workday missed|Patients|Total Cost|\n",
    "|:-:|:-:|:-:|:-:|:-:|:-:|:-:|\n",
    "|Age below 60|\\\\$191|50|\\\\$125|10|107|\\\\$1,155,600|\n",
    "|Age above 60|||\\\\$125|60|80|\\\\$600,000|\n",
    "\n",
    "\n",
    "Total costs for WNND cases\n",
    "**\\\\$7,379,020 + \\\\$1,755,600 = \\\\$9,134,620**"
   ]
  },
  {
   "cell_type": "markdown",
   "id": "4cb11bc1",
   "metadata": {},
   "source": [
    "### Estimated cost based on WNF cases (103 patients)\n",
    "\n",
    "#### <span style=\"color:red\">Cost due to Inpatient expenses</span>\n",
    "\n",
    "|Item|Cost per case|Total Cost|\n",
    "|:-:|:-:|:-:|\n",
    "|Physician Visit|\\\\$167|\\\\$17,201|\n",
    "|Diagnostics Test|\\\\$135|\\\\$13,905|\n",
    "\n",
    "#### <span style=\"color:red\">Cost due to productivity lost</span>\n",
    "\n",
    "|Productivity Loss|Value of work day missed|No. of work day missed|Value of non-workday missed|No. of non-workday missed|Patients|Total Cost|\n",
    "|:-:|:-:|:-:|:-:|:-:|:-:|:-:|\n",
    "|Age below 60|\\\\$191|5|||60|\\\\$57,300|\n",
    "|Age above 60|||\\\\$125|5|43|\\\\$26,875|\n",
    "\n",
    "Total costs for WNF cases\n",
    "**\\\\$31,106 + \\\\$84,175 = \\\\$115,281**"
   ]
  },
  {
   "cell_type": "markdown",
   "id": "037a5060",
   "metadata": {},
   "source": [
    "### Total Cost and Potential Benefits\n",
    "\n",
    "The total economic cost of the 2012 WNV epidemic was approximately **\\\\$9,249,901**, while the total spraying cost was **\\\\$1,000,000**. Cost ratio of was about 9:1, which suggests that for the benefit of spraying to outweigh the the economic cost, the spray would only need to prevent xx WNND cases.\n",
    "\n",
    "Through our model, we are confident to predict xx% of the WNV (based on the recall score of xx). By deploying interventions to eradicate carrier mosquitos or to notify potential infected citizens for early treatment, we would be able to save ~$xx on initial hospitalization costs."
   ]
  },
  {
   "cell_type": "markdown",
   "id": "14d3459f",
   "metadata": {},
   "source": [
    "## Total Cost and Potential Benefits"
   ]
  },
  {
   "cell_type": "code",
   "execution_count": 44,
   "id": "b3c6a627",
   "metadata": {},
   "outputs": [
    {
     "data": {
      "text/plain": [
       "9249901"
      ]
     },
     "execution_count": 44,
     "metadata": {},
     "output_type": "execute_result"
    }
   ],
   "source": [
    "9134620+115281"
   ]
  },
  {
   "cell_type": "code",
   "execution_count": null,
   "id": "933e2525",
   "metadata": {},
   "outputs": [],
   "source": []
  }
 ],
 "metadata": {
  "kernelspec": {
   "display_name": "Python 3",
   "language": "python",
   "name": "python3"
  },
  "language_info": {
   "codemirror_mode": {
    "name": "ipython",
    "version": 3
   },
   "file_extension": ".py",
   "mimetype": "text/x-python",
   "name": "python",
   "nbconvert_exporter": "python",
   "pygments_lexer": "ipython3",
   "version": "3.8.8"
  }
 },
 "nbformat": 4,
 "nbformat_minor": 5
}
