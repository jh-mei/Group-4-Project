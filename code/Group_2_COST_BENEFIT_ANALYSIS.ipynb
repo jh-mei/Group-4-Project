{
 "cells": [
  {
   "cell_type": "markdown",
   "id": "292977d2",
   "metadata": {},
   "source": [
    "# Cost Benefit Analysis"
   ]
  },
  {
   "cell_type": "markdown",
   "id": "4f10f76e",
   "metadata": {},
   "source": [
    "### Current Spray Efforts"
   ]
  },
  {
   "cell_type": "markdown",
   "id": "1c7244d0",
   "metadata": {},
   "source": [
    "* Referring back to our EDA on the spray data, we saw that the current rate of success in eradicating WNV in sprayed areas is 7 / 17 = 41.18%. This is quite a significant rate, considering we are not looking at a decrease in mosquito numbers but eradicating WNV as a whole from that area."
   ]
  },
  {
   "cell_type": "markdown",
   "id": "934a01d7",
   "metadata": {},
   "source": [
    "#### Medical Impact\n",
    "* WNV asymptomatic vs symptomatic 4:1\n",
    "* WNV can result to\n",
    "    * Mild - WNF (West Nile Fever)\n",
    "    * Severe - WNND (West Nile Neuroinvasive disease)"
   ]
  },
  {
   "cell_type": "markdown",
   "id": "d19d52d8",
   "metadata": {},
   "source": [
    "### WNV cases statistics from 2007-2014\n",
    "\n",
    "(https://idph.illinois.gov/envhealth/wnvglance07.htm)\n",
    "\n",
    "|Year|WNV Cases|WNND Cases|WNF Cases|  \n",
    "|:--|:-:|:-:|:--|  \n",
    "|2007|101|63|48|\n",
    "|2008|20|12|8|\n",
    "|2009|5|5|0|\n",
    "|2010|61|45|16|\n",
    "|2011|34|22|12|\n",
    "|2012|290|187|103|\n",
    "|2013|117|86|31|\n",
    "|2014|44|36|8|"
   ]
  },
  {
   "cell_type": "markdown",
   "id": "fc7be8b4",
   "metadata": {},
   "source": [
    "## ==Total cost with spraying==\n",
    "\n",
    "The Chicago Department of Public Health (CDPH) conducts mosquito spraying as part of their measure to reduce the occurrence of WNV. The spraying is conducted from dusk to around midnight from ultra low volumn (ULV) sprayer trucks, using the chemical Zenivex™ E4 (City of Chicago, 2019). This is a 4% solution of etofenprox, sprayed at 4.5 - 9 ounces per minute, at a vehicle speed of 10 - 15 mph (Central Massachussettes Mosquito Control Project). Assuming each truck has an area of effect of about 3 m to each side of the truck, the overall spray area is approximately 0.6 km2 per truck.\n",
    "The cost of Zenivex E4 is about \\$80 USD per gallon ([North Dakota Department of Health, 2013](http://www.gfmosquito.com/wp-content/uploads/2013/06/2013-North-Dakota-Bid-Tabulation.pdf)). Given the current rate of spraying and assuming a total spray duration of 5 hours, the cost of pesticides for <i>each sprayer truck</i> is **\\\\$1439.00**.\n",
    "Given that the total area of Chicago is 606.1 km2, it would take about 1000 trucks at the same time to cover the entire area.\n",
    "\n",
    "This works out to be approximately \\$1,439,000"
   ]
  },
  {
   "cell_type": "markdown",
   "id": "990d6e5d",
   "metadata": {},
   "source": [
    "## ==Economic Cost without spraying in 2012==\n",
    "\n",
    "We will use 2012's data for the economic analysis given that it had the most number of cases, and it will show the most benefit from the sprays. Costs were based on this [article](https://www.ncbi.nlm.nih.gov/pmc/articles/PMC3322011/) that did a cost analysis of WNV in Sacremento County, California."
   ]
  },
  {
   "cell_type": "markdown",
   "id": "cb8911e6",
   "metadata": {},
   "source": [
    "### Estimated cost based on WNND cases (187 patients)\n",
    "\n",
    "#### <span style=\"color:red\">Cost due to Inpatient and Outpatient expenses</span>\n",
    "\n",
    "|Item|Cost per Case|Total Cost|\n",
    "|-:-|-:-|-:-|\n",
    "|Inpatient Treatment|\\\\$33,143|\\\\$6,197,741|\n",
    "|Outpatient Treatment|\\\\$333|\\\\$62,271|\n",
    "|Physician Visits|\\\\$450|\\\\$84,150|\n",
    "|Physical Therapy|\\\\$909|\\\\$169,983|\n",
    "|Occupational Therapy|\\\\$4,037|\\\\$754,919|\n",
    "|Speech Therapy|\\\\$588|\\\\$109,956|\n",
    "\n",
    "#### <span style=\"color:red\">Cost due to productivity lost</span>\n",
    "\n",
    "|Productivity Loss|Value of work day missed|No. of work day missed|Value of non-workday missed|No. of non-workday missed|Patients|Total Cost|\n",
    "|:-:|:-:|:-:|:-:|:-:|:-:|:-:|\n",
    "|Age below 60|\\\\$191|50|\\\\$125|10|107|\\\\$1,155,600|\n",
    "|Age above 60|||\\\\$125|60|80|\\\\$600,000|\n",
    "\n",
    "\n",
    "Total costs for WNND cases\n",
    "**\\\\$7,379,020 + \\\\$1,755,600 = \\\\$9,134,620**"
   ]
  },
  {
   "cell_type": "markdown",
   "id": "9600c70d",
   "metadata": {},
   "source": [
    "### Estimated cost based on WNF cases (103 patients)\n",
    "\n",
    "#### <span style=\"color:red\">Cost due to Inpatient expenses</span>\n",
    "\n",
    "|Item|Cost per case|Total Cost|\n",
    "|:-:|:-:|:-:|\n",
    "|Physician Visit|\\\\$167|\\\\$17,201|\n",
    "|Diagnostics Test|\\\\$135|\\\\$13,905|\n",
    "\n",
    "#### <span style=\"color:red\">Cost due to productivity lost</span>\n",
    "\n",
    "|Productivity Loss|Value of work day missed|No. of work day missed|Value of non-workday missed|No. of non-workday missed|Patients|Total Cost|\n",
    "|:-:|:-:|:-:|:-:|:-:|:-:|:-:|\n",
    "|Age below 60|\\\\$191|5|||60|\\\\$57,300|\n",
    "|Age above 60|||\\\\$125|5|43|\\\\$26,875|\n",
    "\n",
    "Total costs for WNF cases\n",
    "**\\\\$31,106 + \\\\$84,175 = \\\\$115,281**"
   ]
  },
  {
   "cell_type": "markdown",
   "id": "a98428d9",
   "metadata": {},
   "source": [
    "### Total Cost and Potential Benefits\n",
    "\n",
    "The total economic cost of the 2012 WNV epidemic was approximately **\\\\$9,249,901**, while the total spraying cost on the whole city was approximately **\\\\$1,439,000**. Cost ratio of was about 7:1, which suggests that for the benefit of spraying to outweigh the the economic cost, the spray would only need to prevent 36 WNND cases.\n",
    "\n",
    "Through our Gradient boosting model, we are confident to predict **49%** of the WNV (based on the recall score). If we were to deploy our model during the 2012 WNV epidemic to eradicate carrier mosquitos or to notify potential infected citizens for early treatment, we would be able to save ~**$3 million** on initial hospitalization costs."
   ]
  },
  {
   "cell_type": "markdown",
   "id": "caa6ce7b",
   "metadata": {},
   "source": [
    "# Conclusion"
   ]
  },
  {
   "cell_type": "markdown",
   "id": "93831b3d",
   "metadata": {},
   "source": [
    "We have chosen to deploy the Gradient Boost model as it has achieved an ROC-AUC score of 83% and achieved a recall score of 49%, as it is important to ensure a relatively high recall score that does not compromise the ROC AUC and/or precision score.\n",
    "\n",
    "Our model determines that WNV is most likely to occur during the month of August, with the average temperature, wind speeds, and relative humidity being high, therefore spray efforts should be concentrated during this period.\n",
    "\n",
    "Location is also a relatively strong predictor, whereby certain traps are identified to have a higher risk of containing WNV.\n",
    "\n",
    "In conclusion, spraying high risk areas with pesticides during peak months with weather dependencies is an effective tool that reduces medical and economic costs.\n",
    "\n",
    "\n",
    "                             \n"
   ]
  },
  {
   "cell_type": "markdown",
   "id": "c85d1015",
   "metadata": {},
   "source": [
    "# Recommendation"
   ]
  },
  {
   "cell_type": "markdown",
   "id": "c071f0a7",
   "metadata": {},
   "source": [
    "During our external research, we have uncovered serveral recommendations for our agency and the concerned public to consider:\n",
    "* **Adult Control**\n",
    "    * Spray efforts should be concentrated during the months of August, at traps where there is a high risk of ENV present, and also considering weather data when the relative humidity and wind speeds are significant. We should then continue to measure mosquito population size and infection rates before and after spraying to monitor the efficacy of the treatments.\n",
    "* **Larval Control**\n",
    "    * To reduce mosquito breeding by eliminating stagnant water, city agency should treat all catch basins with larvicide during the month of June-July (before the adult mosquitoes hatch), to limit mosquito breeding and reduce the adult mosquito density.\n",
    "* **Public Education**\n",
    "    * To effectively target areas where there is a density of human residents, we will need to educate the public on active measures they can take to eradicate musquitos within their residencies, and having self protection. For such a scale, we should involve the health agency to spread awareness, drive campaigns and educate the public on actions that inidividuals can take. Personal protection measures can also be subsidised by the government in giving out insect repellent and performing checks around their homes to clear mosquito breeding grounds\n",
    "* **Bird Surveillance**\n",
    "    * During our reasearch, we found that dead birds found in the city were tested for WNV and found to be positive. This is significant, as the mosquitoes likely are infected with WNV from feeding from these birds, allowing us to be a step ahead. We should collate this data as an additional feature to further improve our model."
   ]
  }
 ],
 "metadata": {
  "kernelspec": {
   "display_name": "Python 3",
   "language": "python",
   "name": "python3"
  },
  "language_info": {
   "codemirror_mode": {
    "name": "ipython",
    "version": 3
   },
   "file_extension": ".py",
   "mimetype": "text/x-python",
   "name": "python",
   "nbconvert_exporter": "python",
   "pygments_lexer": "ipython3",
   "version": "3.8.2"
  },
  "toc": {
   "base_numbering": 1,
   "nav_menu": {},
   "number_sections": true,
   "sideBar": true,
   "skip_h1_title": false,
   "title_cell": "Table of Contents",
   "title_sidebar": "Contents",
   "toc_cell": false,
   "toc_position": {},
   "toc_section_display": true,
   "toc_window_display": true
  }
 },
 "nbformat": 4,
 "nbformat_minor": 5
}
