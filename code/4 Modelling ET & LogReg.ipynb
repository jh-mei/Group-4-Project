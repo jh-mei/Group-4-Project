{
 "cells": [
  {
   "cell_type": "markdown",
   "id": "731861a8",
   "metadata": {
    "toc": true
   },
   "source": [
    "<h1>Table of Contents<span class=\"tocSkip\"></span></h1>\n",
    "<div class=\"toc\"><ul class=\"toc-item\"><li><span><a href=\"#Modelling\" data-toc-modified-id=\"Modelling-1\"><span class=\"toc-item-num\">1&nbsp;&nbsp;</span>Modelling</a></span><ul class=\"toc-item\"><li><span><a href=\"#Naive-Bayes\" data-toc-modified-id=\"Naive-Bayes-1.1\"><span class=\"toc-item-num\">1.1&nbsp;&nbsp;</span>Naive Bayes</a></span></li><li><span><a href=\"#Logistic-Regression\" data-toc-modified-id=\"Logistic-Regression-1.2\"><span class=\"toc-item-num\">1.2&nbsp;&nbsp;</span>Logistic Regression</a></span></li><li><span><a href=\"#Extra-Trees\" data-toc-modified-id=\"Extra-Trees-1.3\"><span class=\"toc-item-num\">1.3&nbsp;&nbsp;</span>Extra Trees</a></span></li></ul></li></ul></div>"
   ]
  },
  {
   "cell_type": "code",
   "execution_count": 1,
   "id": "cfb65cc8",
   "metadata": {},
   "outputs": [],
   "source": [
    "import pandas as pd\n",
    "import numpy as np\n",
    "import matplotlib.pyplot as plt\n",
    "import seaborn as sns\n",
    "from geopy.distance import geodesic\n",
    "\n",
    "from sklearn.preprocessing import OneHotEncoder, StandardScaler, PolynomialFeatures\n",
    "from sklearn.naive_bayes import MultinomialNB\n",
    "from sklearn.model_selection import train_test_split, cross_val_score, GridSearchCV\n",
    "\n",
    "from imblearn.over_sampling import SMOTENC, SMOTE\n",
    "from imblearn.pipeline import Pipeline as imbpipeline\n",
    "\n",
    "from sklearn.metrics import (\n",
    "    confusion_matrix, \n",
    "    plot_confusion_matrix,\n",
    "    accuracy_score,\n",
    "    plot_roc_curve,\n",
    "    roc_auc_score,\n",
    "    recall_score,\n",
    "    precision_score,\n",
    "    f1_score\n",
    ")\n",
    "\n",
    "from sklearn.ensemble import RandomForestClassifier, GradientBoostingClassifier, AdaBoostClassifier, ExtraTreesClassifier\n",
    "from sklearn.linear_model import LogisticRegression\n",
    "from sklearn.tree import DecisionTreeClassifier"
   ]
  },
  {
   "cell_type": "code",
   "execution_count": 2,
   "id": "87dbbfca",
   "metadata": {},
   "outputs": [],
   "source": [
    "train_weather = pd.read_csv('datasets/train_weather.csv')\n",
    "test_weather = pd.read_csv('datasets/test_weather.csv')"
   ]
  },
  {
   "cell_type": "markdown",
   "id": "28cb81d1",
   "metadata": {},
   "source": [
    "## Modelling"
   ]
  },
  {
   "cell_type": "code",
   "execution_count": 3,
   "id": "24530310",
   "metadata": {},
   "outputs": [],
   "source": [
    "X = train_weather.drop(columns='WnvPresent')\n",
    "y = train_weather['WnvPresent']\n",
    "    \n",
    "X_train, X_test, y_train, y_test = train_test_split(X, y, stratify=y, random_state=42)\n",
    "\n",
    "metrics = pd.DataFrame(index=[0])"
   ]
  },
  {
   "cell_type": "code",
   "execution_count": 20,
   "id": "2b3dce08",
   "metadata": {},
   "outputs": [],
   "source": [
    "def get_model(model, df, gridcv, pipe_params={}):\n",
    "    \n",
    "    models = {'lr': LogisticRegression(),\n",
    "              'nb': MultinomialNB(),\n",
    "              'rf': RandomForestClassifier(),\n",
    "              'et': ExtraTreesClassifier(),\n",
    "              'ada': AdaBoostClassifier(base_estimator=DecisionTreeClassifier()),\n",
    "             }\n",
    "    \n",
    "    if model == 'nb':\n",
    "            pipe = imbpipeline([\n",
    "                ('sm', SMOTE(random_state=42)), \n",
    "                (model, models[model]),\n",
    "            ])\n",
    "    else:\n",
    "            pipe = imbpipeline([\n",
    "                ('ss', StandardScaler()),\n",
    "                ('sm', SMOTE(random_state=42)), \n",
    "                (model, models[model]),\n",
    "            ])\n",
    "    \n",
    "    pipe_params = pipe_params\n",
    "    \n",
    "    gridsearch = GridSearchCV(pipe, pipe_params, cv=gridcv, scoring='roc_auc', verbose=1)\n",
    "    \n",
    "    gridsearch.fit(X_train, y_train)\n",
    "    best_params = gridsearch.best_params_\n",
    "    print(f'Best Parameters: {best_params}')\n",
    "    \n",
    "    preds = gridsearch.predict(X_test)\n",
    "    tn, fp, fn, tp = confusion_matrix(y_test, preds).ravel()\n",
    "\n",
    "    model_probs_train = gridsearch.predict_proba(X_train)[:, 1]\n",
    "    model_probs_test = gridsearch.predict_proba(X_test)[:, 1]\n",
    "    roc_auc = cross_val_score(pipe, X_train, y_train, scoring='roc_auc', cv=gridcv)\n",
    "    \n",
    "    metrics['model'] = model\n",
    "    metrics['accuracy'] = accuracy_score(y_test, preds)\n",
    "    metrics['specificity'] = tn / (tn+fp)\n",
    "    metrics['recall'] = recall_score(y_test, preds)\n",
    "    metrics['precision'] = precision_score(y_test, preds)\n",
    "    metrics['AUC_CV'] = roc_auc.mean()\n",
    "    metrics['AUC_train'] = roc_auc_score(y_train, model_probs_train)\n",
    "    metrics['AUC_test'] = roc_auc_score(y_test, model_probs_test)\n",
    "    metrics['f1_score'] = f1_score(y_test, preds)\n",
    "    \n",
    "    \n",
    "    \n",
    "    return metrics"
   ]
  },
  {
   "cell_type": "code",
   "execution_count": null,
   "id": "9bddf04b",
   "metadata": {},
   "outputs": [],
   "source": [
    "# def get_model1(model, df, gridcv, pipe_params={}):\n",
    "    \n",
    "#     models = {'lr': LogisticRegression(),\n",
    "#               'nb': MultinomialNB(),\n",
    "#               'rf': RandomForestClassifier(),\n",
    "#               'et': ExtraTreesClassifier(),\n",
    "#               'ada': AdaBoostClassifier(base_estimator=DecisionTreeClassifier()),\n",
    "#              }\n",
    "    \n",
    "#     if model == 'nb':\n",
    "#             pipe = imbpipeline([\n",
    "#                 ('sm', SMOTE(random_state=42)), \n",
    "#                 (model, models[model]),\n",
    "#             ])\n",
    "#     else:\n",
    "#             pipe = imbpipeline([\n",
    "#                 ('ss', StandardScaler()),\n",
    "#                 ('sm', SMOTE(random_state=42)), \n",
    "#                 (model, models[model]),\n",
    "#             ])\n",
    "    \n",
    "#     pipe_params = pipe_params\n",
    "    \n",
    "#     gridsearch = GridSearchCV(pipe, pipe_params, cv=gridcv, scoring='roc_auc', verbose=1)\n",
    "    \n",
    "#     gridsearch.fit(X_train, y_train)\n",
    "#     best_params = gridsearch.best_params_\n",
    "#     print(f'Best Parameters: {best_params}')\n",
    "    \n",
    "#     preds = gridsearch.predict(X_test)\n",
    "#     tn, fp, fn, tp = confusion_matrix(y_test, preds).ravel()\n",
    "\n",
    "#     model_probs_train = gridsearch.predict_proba(X_train)[:, 1]\n",
    "#     model_probs_test = gridsearch.predict_proba(X_test)[:, 1]\n",
    "#     roc_auc = cross_val_score(pipe, X_train, y_train, scoring='roc_auc', cv=gridcv)\n",
    "    \n",
    "#     metrics['model'] = model\n",
    "#     metrics['accuracy'] = accuracy_score(y_test, preds)\n",
    "#     metrics['specificity'] = tn / (tn+fp)\n",
    "#     metrics['recall'] = recall_score(y_test, preds)\n",
    "#     metrics['precision'] = precision_score(y_test, preds)\n",
    "#     metrics['AUC_CV'] = roc_auc.mean()\n",
    "#     metrics['AUC_train'] = roc_auc_score(y_train, model_probs_train)\n",
    "#     metrics['AUC_test'] = roc_auc_score(y_test, model_probs_test)\n",
    "#     metrics['f1_score'] = f1_score(y_test, preds)\n",
    "    \n",
    "    \n",
    "    \n",
    "#     return metrics"
   ]
  },
  {
   "cell_type": "markdown",
   "id": "06590c1b",
   "metadata": {},
   "source": [
    "### Naive Bayes"
   ]
  },
  {
   "cell_type": "code",
   "execution_count": 5,
   "id": "916340f3",
   "metadata": {},
   "outputs": [
    {
     "name": "stdout",
     "output_type": "stream",
     "text": [
      "Fitting 5 folds for each of 3 candidates, totalling 15 fits\n"
     ]
    },
    {
     "data": {
      "text/html": [
       "<div>\n",
       "<style scoped>\n",
       "    .dataframe tbody tr th:only-of-type {\n",
       "        vertical-align: middle;\n",
       "    }\n",
       "\n",
       "    .dataframe tbody tr th {\n",
       "        vertical-align: top;\n",
       "    }\n",
       "\n",
       "    .dataframe thead th {\n",
       "        text-align: right;\n",
       "    }\n",
       "</style>\n",
       "<table border=\"1\" class=\"dataframe\">\n",
       "  <thead>\n",
       "    <tr style=\"text-align: right;\">\n",
       "      <th></th>\n",
       "      <th>model</th>\n",
       "      <th>accuracy</th>\n",
       "      <th>specificity</th>\n",
       "      <th>recall</th>\n",
       "      <th>precision</th>\n",
       "      <th>AUC_CV</th>\n",
       "      <th>AUC_train</th>\n",
       "      <th>AUC_test</th>\n",
       "      <th>f1_score</th>\n",
       "    </tr>\n",
       "  </thead>\n",
       "  <tbody>\n",
       "    <tr>\n",
       "      <th>0</th>\n",
       "      <td>Naive Bayes</td>\n",
       "      <td>0.685701</td>\n",
       "      <td>0.687781</td>\n",
       "      <td>0.649123</td>\n",
       "      <td>0.105714</td>\n",
       "      <td>0.737213</td>\n",
       "      <td>0.754839</td>\n",
       "      <td>0.735733</td>\n",
       "      <td>0.181818</td>\n",
       "    </tr>\n",
       "  </tbody>\n",
       "</table>\n",
       "</div>"
      ],
      "text/plain": [
       "         model  accuracy  specificity    recall  precision    AUC_CV  \\\n",
       "0  Naive Bayes  0.685701     0.687781  0.649123   0.105714  0.737213   \n",
       "\n",
       "   AUC_train  AUC_test  f1_score  \n",
       "0   0.754839  0.735733  0.181818  "
      ]
     },
     "execution_count": 5,
     "metadata": {},
     "output_type": "execute_result"
    }
   ],
   "source": [
    "get_model('nb', train_weather, 5, pipe_params={\n",
    "    'sm__k_neighbors': [3, 5, 10]\n",
    "})"
   ]
  },
  {
   "cell_type": "markdown",
   "id": "3ec4dd78",
   "metadata": {},
   "source": [
    "### Logistic Regression"
   ]
  },
  {
   "cell_type": "code",
   "execution_count": 18,
   "id": "cfbb3d91",
   "metadata": {},
   "outputs": [
    {
     "name": "stdout",
     "output_type": "stream",
     "text": [
      "Fitting 5 folds for each of 15 candidates, totalling 75 fits\n",
      "Best Parameters: {'lr__C': 3.198895109691398, 'lr__max_iter': 2000, 'lr__solver': 'saga'}\n",
      "CPU times: user 2min 12s, sys: 2.69 s, total: 2min 14s\n",
      "Wall time: 2min 4s\n"
     ]
    },
    {
     "data": {
      "text/html": [
       "<div>\n",
       "<style scoped>\n",
       "    .dataframe tbody tr th:only-of-type {\n",
       "        vertical-align: middle;\n",
       "    }\n",
       "\n",
       "    .dataframe tbody tr th {\n",
       "        vertical-align: top;\n",
       "    }\n",
       "\n",
       "    .dataframe thead th {\n",
       "        text-align: right;\n",
       "    }\n",
       "</style>\n",
       "<table border=\"1\" class=\"dataframe\">\n",
       "  <thead>\n",
       "    <tr style=\"text-align: right;\">\n",
       "      <th></th>\n",
       "      <th>model</th>\n",
       "      <th>accuracy</th>\n",
       "      <th>specificity</th>\n",
       "      <th>recall</th>\n",
       "      <th>precision</th>\n",
       "      <th>AUC_CV</th>\n",
       "      <th>AUC_train</th>\n",
       "      <th>AUC_test</th>\n",
       "      <th>f1_score</th>\n",
       "    </tr>\n",
       "  </thead>\n",
       "  <tbody>\n",
       "    <tr>\n",
       "      <th>0</th>\n",
       "      <td>LogisticRegression()</td>\n",
       "      <td>0.732893</td>\n",
       "      <td>0.729177</td>\n",
       "      <td>0.798246</td>\n",
       "      <td>0.143533</td>\n",
       "      <td>0.837943</td>\n",
       "      <td>0.843921</td>\n",
       "      <td>0.827184</td>\n",
       "      <td>0.243316</td>\n",
       "    </tr>\n",
       "  </tbody>\n",
       "</table>\n",
       "</div>"
      ],
      "text/plain": [
       "                  model  accuracy  specificity    recall  precision    AUC_CV  \\\n",
       "0  LogisticRegression()  0.732893     0.729177  0.798246   0.143533  0.837943   \n",
       "\n",
       "   AUC_train  AUC_test  f1_score  \n",
       "0   0.843921  0.827184  0.243316  "
      ]
     },
     "execution_count": 18,
     "metadata": {},
     "output_type": "execute_result"
    }
   ],
   "source": [
    "%%time\n",
    "get_model('lr', train_weather, 5, pipe_params={\n",
    "    'lr__C' : np.logspace(0.01, 1, 5),\n",
    "     'lr__solver' : ['saga'], #### Estimator fit failed when penalty = l1. \n",
    "          'lr__max_iter' : [2000, 3000, 5000]\n",
    "})"
   ]
  },
  {
   "cell_type": "code",
   "execution_count": 13,
   "id": "179bc83d",
   "metadata": {},
   "outputs": [
    {
     "name": "stdout",
     "output_type": "stream",
     "text": [
      "Fitting 5 folds for each of 1 candidates, totalling 5 fits\n",
      "Best Parameters: {}\n",
      "CPU times: user 1.27 s, sys: 128 ms, total: 1.4 s\n",
      "Wall time: 754 ms\n"
     ]
    },
    {
     "data": {
      "text/html": [
       "<div>\n",
       "<style scoped>\n",
       "    .dataframe tbody tr th:only-of-type {\n",
       "        vertical-align: middle;\n",
       "    }\n",
       "\n",
       "    .dataframe tbody tr th {\n",
       "        vertical-align: top;\n",
       "    }\n",
       "\n",
       "    .dataframe thead th {\n",
       "        text-align: right;\n",
       "    }\n",
       "</style>\n",
       "<table border=\"1\" class=\"dataframe\">\n",
       "  <thead>\n",
       "    <tr style=\"text-align: right;\">\n",
       "      <th></th>\n",
       "      <th>model</th>\n",
       "      <th>accuracy</th>\n",
       "      <th>specificity</th>\n",
       "      <th>recall</th>\n",
       "      <th>precision</th>\n",
       "      <th>AUC_CV</th>\n",
       "      <th>AUC_train</th>\n",
       "      <th>AUC_test</th>\n",
       "      <th>f1_score</th>\n",
       "    </tr>\n",
       "  </thead>\n",
       "  <tbody>\n",
       "    <tr>\n",
       "      <th>0</th>\n",
       "      <td>LogisticRegression()</td>\n",
       "      <td>0.732893</td>\n",
       "      <td>0.729177</td>\n",
       "      <td>0.798246</td>\n",
       "      <td>0.143533</td>\n",
       "      <td>0.837943</td>\n",
       "      <td>0.843888</td>\n",
       "      <td>0.82718</td>\n",
       "      <td>0.243316</td>\n",
       "    </tr>\n",
       "  </tbody>\n",
       "</table>\n",
       "</div>"
      ],
      "text/plain": [
       "                  model  accuracy  specificity    recall  precision    AUC_CV  \\\n",
       "0  LogisticRegression()  0.732893     0.729177  0.798246   0.143533  0.837943   \n",
       "\n",
       "   AUC_train  AUC_test  f1_score  \n",
       "0   0.843888   0.82718  0.243316  "
      ]
     },
     "execution_count": 13,
     "metadata": {},
     "output_type": "execute_result"
    }
   ],
   "source": [
    "# %%time\n",
    "# get_model('lr', train_weather, 5, pipe_params={})"
   ]
  },
  {
   "cell_type": "code",
   "execution_count": 19,
   "id": "d07538bd",
   "metadata": {},
   "outputs": [
    {
     "name": "stdout",
     "output_type": "stream",
     "text": [
      "Fitting 5 folds for each of 60 candidates, totalling 300 fits\n",
      "Best Parameters: {'lr__C': 3.198895109691398, 'lr__max_iter': 2000, 'lr__solver': 'saga'}\n",
      "CPU times: user 4min 9s, sys: 6.89 s, total: 4min 16s\n",
      "Wall time: 3min 37s\n"
     ]
    },
    {
     "data": {
      "text/html": [
       "<div>\n",
       "<style scoped>\n",
       "    .dataframe tbody tr th:only-of-type {\n",
       "        vertical-align: middle;\n",
       "    }\n",
       "\n",
       "    .dataframe tbody tr th {\n",
       "        vertical-align: top;\n",
       "    }\n",
       "\n",
       "    .dataframe thead th {\n",
       "        text-align: right;\n",
       "    }\n",
       "</style>\n",
       "<table border=\"1\" class=\"dataframe\">\n",
       "  <thead>\n",
       "    <tr style=\"text-align: right;\">\n",
       "      <th></th>\n",
       "      <th>model</th>\n",
       "      <th>accuracy</th>\n",
       "      <th>specificity</th>\n",
       "      <th>recall</th>\n",
       "      <th>precision</th>\n",
       "      <th>AUC_CV</th>\n",
       "      <th>AUC_train</th>\n",
       "      <th>AUC_test</th>\n",
       "      <th>f1_score</th>\n",
       "    </tr>\n",
       "  </thead>\n",
       "  <tbody>\n",
       "    <tr>\n",
       "      <th>0</th>\n",
       "      <td>LogisticRegression()</td>\n",
       "      <td>0.732893</td>\n",
       "      <td>0.729177</td>\n",
       "      <td>0.798246</td>\n",
       "      <td>0.143533</td>\n",
       "      <td>0.837943</td>\n",
       "      <td>0.843921</td>\n",
       "      <td>0.827184</td>\n",
       "      <td>0.243316</td>\n",
       "    </tr>\n",
       "  </tbody>\n",
       "</table>\n",
       "</div>"
      ],
      "text/plain": [
       "                  model  accuracy  specificity    recall  precision    AUC_CV  \\\n",
       "0  LogisticRegression()  0.732893     0.729177  0.798246   0.143533  0.837943   \n",
       "\n",
       "   AUC_train  AUC_test  f1_score  \n",
       "0   0.843921  0.827184  0.243316  "
      ]
     },
     "execution_count": 19,
     "metadata": {},
     "output_type": "execute_result"
    }
   ],
   "source": [
    "%%time\n",
    "get_model('lr', train_weather, 5, pipe_params={\n",
    "    'lr__C' : np.logspace(0.01, 1, 5),\n",
    "     'lr__solver' : ['saga','newton-cg','sag','liblinear'],\n",
    "             #'lr__penalty' : ['l2','none'],  #### Estimator fit failed when penalty = l1. \n",
    "          'lr__max_iter' : [2000, 3000, 5000]\n",
    "})"
   ]
  },
  {
   "cell_type": "markdown",
   "id": "629c6c50",
   "metadata": {},
   "source": [
    "### Extra Trees"
   ]
  },
  {
   "cell_type": "code",
   "execution_count": 22,
   "id": "003f4c2a",
   "metadata": {},
   "outputs": [
    {
     "name": "stdout",
     "output_type": "stream",
     "text": [
      "Fitting 5 folds for each of 96 candidates, totalling 480 fits\n",
      "Best Parameters: {'et__bootstrap': 'True', 'et__criterion': 'entropy', 'et__min_samples_leaf': 5, 'et__min_samples_split': 2, 'et__n_estimators': 100}\n",
      "CPU times: user 9min 26s, sys: 20.2 s, total: 9min 47s\n",
      "Wall time: 8min 43s\n"
     ]
    },
    {
     "data": {
      "text/html": [
       "<div>\n",
       "<style scoped>\n",
       "    .dataframe tbody tr th:only-of-type {\n",
       "        vertical-align: middle;\n",
       "    }\n",
       "\n",
       "    .dataframe tbody tr th {\n",
       "        vertical-align: top;\n",
       "    }\n",
       "\n",
       "    .dataframe thead th {\n",
       "        text-align: right;\n",
       "    }\n",
       "</style>\n",
       "<table border=\"1\" class=\"dataframe\">\n",
       "  <thead>\n",
       "    <tr style=\"text-align: right;\">\n",
       "      <th></th>\n",
       "      <th>model</th>\n",
       "      <th>accuracy</th>\n",
       "      <th>specificity</th>\n",
       "      <th>recall</th>\n",
       "      <th>precision</th>\n",
       "      <th>AUC_CV</th>\n",
       "      <th>AUC_train</th>\n",
       "      <th>AUC_test</th>\n",
       "      <th>f1_score</th>\n",
       "    </tr>\n",
       "  </thead>\n",
       "  <tbody>\n",
       "    <tr>\n",
       "      <th>0</th>\n",
       "      <td>et</td>\n",
       "      <td>0.818782</td>\n",
       "      <td>0.829925</td>\n",
       "      <td>0.622807</td>\n",
       "      <td>0.17233</td>\n",
       "      <td>0.6742</td>\n",
       "      <td>0.915986</td>\n",
       "      <td>0.831306</td>\n",
       "      <td>0.269962</td>\n",
       "    </tr>\n",
       "  </tbody>\n",
       "</table>\n",
       "</div>"
      ],
      "text/plain": [
       "  model  accuracy  specificity    recall  precision  AUC_CV  AUC_train  \\\n",
       "0    et  0.818782     0.829925  0.622807    0.17233  0.6742   0.915986   \n",
       "\n",
       "   AUC_test  f1_score  \n",
       "0  0.831306  0.269962  "
      ]
     },
     "execution_count": 22,
     "metadata": {},
     "output_type": "execute_result"
    }
   ],
   "source": [
    "%%time\n",
    "get_model('et', train_weather, 5, pipe_params={\n",
    "    'et__criterion':['gini','entropy'],\n",
    "    'et__bootstrap':[\"True\",\"False\"],\n",
    "    'et__min_samples_leaf':[1,2,5,10],\n",
    "    'et__min_samples_split':[2,3],\n",
    "    'et__n_estimators':[100,150,300],\n",
    "})"
   ]
  },
  {
   "cell_type": "code",
   "execution_count": null,
   "id": "36e2b375",
   "metadata": {},
   "outputs": [],
   "source": []
  }
 ],
 "metadata": {
  "kernelspec": {
   "display_name": "Python 3",
   "language": "python",
   "name": "python3"
  },
  "language_info": {
   "codemirror_mode": {
    "name": "ipython",
    "version": 3
   },
   "file_extension": ".py",
   "mimetype": "text/x-python",
   "name": "python",
   "nbconvert_exporter": "python",
   "pygments_lexer": "ipython3",
   "version": "3.8.2"
  },
  "toc": {
   "base_numbering": 1,
   "nav_menu": {},
   "number_sections": true,
   "sideBar": true,
   "skip_h1_title": false,
   "title_cell": "Table of Contents",
   "title_sidebar": "Contents",
   "toc_cell": true,
   "toc_position": {},
   "toc_section_display": true,
   "toc_window_display": true
  }
 },
 "nbformat": 4,
 "nbformat_minor": 5
}
